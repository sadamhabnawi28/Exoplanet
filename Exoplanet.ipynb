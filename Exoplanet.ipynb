{
  "nbformat": 4,
  "nbformat_minor": 0,
  "metadata": {
    "colab": {
      "provenance": [],
      "mount_file_id": "1Qn51OgJNu-yyo_MeL7OO-Y3hM__eiOO3",
      "authorship_tag": "ABX9TyOO/LJd9fki4ltSjUI25hbu",
      "include_colab_link": true
    },
    "kernelspec": {
      "name": "python3",
      "display_name": "Python 3"
    },
    "language_info": {
      "name": "python"
    }
  },
  "cells": [
    {
      "cell_type": "markdown",
      "metadata": {
        "id": "view-in-github",
        "colab_type": "text"
      },
      "source": [
        "<a href=\"https://colab.research.google.com/github/sadamhabnawi28/Exoplanet/blob/main/Exoplanet.ipynb\" target=\"_parent\"><img src=\"https://colab.research.google.com/assets/colab-badge.svg\" alt=\"Open In Colab\"/></a>"
      ]
    },
    {
      "cell_type": "markdown",
      "source": [
        "#Import Library and Data"
      ],
      "metadata": {
        "id": "El3pjDPecUOu"
      }
    },
    {
      "cell_type": "code",
      "execution_count": null,
      "metadata": {
        "id": "ygpPQndIcRuO"
      },
      "outputs": [],
      "source": [
        "import pandas as pd\n",
        "import numpy as np\n",
        "import matplotlib.pyplot as plt\n",
        "import seaborn as sns"
      ]
    },
    {
      "cell_type": "code",
      "source": [
        "path = '/content/drive/MyDrive/Astronomy data/Exoplanet_data/'"
      ],
      "metadata": {
        "id": "5QRfojRZcp8D"
      },
      "execution_count": null,
      "outputs": []
    },
    {
      "cell_type": "code",
      "source": [
        "df_con=pd.read_csv(path+'exoplanet_confirmed.csv')\n",
        "df_can=pd.read_csv(path+'exoplanet_candidate.csv')\n",
        "df_oth=pd.read_csv(path+'exoplanet_other.csv')"
      ],
      "metadata": {
        "id": "3hPK1dSMc8lD"
      },
      "execution_count": null,
      "outputs": []
    },
    {
      "cell_type": "code",
      "source": [
        "df0= pd.concat([df_con,df_can], ignore_index=True)\n",
        "df = pd.concat([df0,df_oth],ignore_index=True)"
      ],
      "metadata": {
        "id": "U0OvsW79gTry"
      },
      "execution_count": null,
      "outputs": []
    },
    {
      "cell_type": "markdown",
      "source": [
        "#Data Preprocessing and EDA"
      ],
      "metadata": {
        "id": "Y2uNftPJSvQX"
      }
    },
    {
      "cell_type": "code",
      "source": [
        "df.head()"
      ],
      "metadata": {
        "colab": {
          "base_uri": "https://localhost:8080/",
          "height": 412
        },
        "id": "iqCJfuWMhfxc",
        "outputId": "673f7a08-73cf-408a-e895-c0d0cee76bd1"
      },
      "execution_count": null,
      "outputs": [
        {
          "output_type": "execute_result",
          "data": {
            "text/plain": [
              "        name planet_status     mass  mass_error_min  mass_error_max  \\\n",
              "0  109 Psc b     Confirmed   6.8370         0.53200         0.53200   \n",
              "1   11 Com b     Confirmed  16.1284         1.53491         1.53491   \n",
              "2   11 UMi b     Confirmed  11.0873         1.10000         1.10000   \n",
              "3   14 And b     Confirmed   4.6840         0.23000         0.23000   \n",
              "4   14 Her b     Confirmed      NaN             NaN             NaN   \n",
              "\n",
              "   mass_sini  mass_sini_error_min  mass_sini_error_max  radius  \\\n",
              "0     6.3830              0.07800              0.07800   1.152   \n",
              "1    16.1284              1.53491              1.53491     NaN   \n",
              "2    11.0873              1.10000              1.10000     NaN   \n",
              "3     4.6840              0.23000              0.23000     NaN   \n",
              "4        NaN              4.95000              4.95000     NaN   \n",
              "\n",
              "   radius_error_min  ...  star_sp_type  star_age  star_age_error_min  \\\n",
              "0               NaN  ...         G5 IV      6.90                0.60   \n",
              "1               NaN  ...        G8 III       NaN                 NaN   \n",
              "2               NaN  ...         K4III      1.56                0.54   \n",
              "3               NaN  ...         K0III       NaN                 NaN   \n",
              "4               NaN  ...          K0 V      5.10                 NaN   \n",
              "\n",
              "   star_age_error_max  star_teff  star_teff_error_min  star_teff_error_max  \\\n",
              "0                0.60     5600.0                 80.0                 80.0   \n",
              "1                 NaN     4742.0                100.0                100.0   \n",
              "2                0.54     4340.0                 70.0                 70.0   \n",
              "3                 NaN     4813.0                 20.0                 20.0   \n",
              "4                 NaN     5311.0                 87.0                 87.0   \n",
              "\n",
              "   star_detected_disc  star_magnetic_field  star_alternate_names  \n",
              "0                 NaN                  NaN              HD 10697  \n",
              "1                 NaN                  NaN                   NaN  \n",
              "2                 NaN                  NaN                   NaN  \n",
              "3                 NaN                  NaN                   NaN  \n",
              "4                 NaN                  NaN                   NaN  \n",
              "\n",
              "[5 rows x 98 columns]"
            ],
            "text/html": [
              "\n",
              "  <div id=\"df-93d657a0-4755-48e7-99b1-81d6c0d2c1cd\" class=\"colab-df-container\">\n",
              "    <div>\n",
              "<style scoped>\n",
              "    .dataframe tbody tr th:only-of-type {\n",
              "        vertical-align: middle;\n",
              "    }\n",
              "\n",
              "    .dataframe tbody tr th {\n",
              "        vertical-align: top;\n",
              "    }\n",
              "\n",
              "    .dataframe thead th {\n",
              "        text-align: right;\n",
              "    }\n",
              "</style>\n",
              "<table border=\"1\" class=\"dataframe\">\n",
              "  <thead>\n",
              "    <tr style=\"text-align: right;\">\n",
              "      <th></th>\n",
              "      <th>name</th>\n",
              "      <th>planet_status</th>\n",
              "      <th>mass</th>\n",
              "      <th>mass_error_min</th>\n",
              "      <th>mass_error_max</th>\n",
              "      <th>mass_sini</th>\n",
              "      <th>mass_sini_error_min</th>\n",
              "      <th>mass_sini_error_max</th>\n",
              "      <th>radius</th>\n",
              "      <th>radius_error_min</th>\n",
              "      <th>...</th>\n",
              "      <th>star_sp_type</th>\n",
              "      <th>star_age</th>\n",
              "      <th>star_age_error_min</th>\n",
              "      <th>star_age_error_max</th>\n",
              "      <th>star_teff</th>\n",
              "      <th>star_teff_error_min</th>\n",
              "      <th>star_teff_error_max</th>\n",
              "      <th>star_detected_disc</th>\n",
              "      <th>star_magnetic_field</th>\n",
              "      <th>star_alternate_names</th>\n",
              "    </tr>\n",
              "  </thead>\n",
              "  <tbody>\n",
              "    <tr>\n",
              "      <th>0</th>\n",
              "      <td>109 Psc b</td>\n",
              "      <td>Confirmed</td>\n",
              "      <td>6.8370</td>\n",
              "      <td>0.53200</td>\n",
              "      <td>0.53200</td>\n",
              "      <td>6.3830</td>\n",
              "      <td>0.07800</td>\n",
              "      <td>0.07800</td>\n",
              "      <td>1.152</td>\n",
              "      <td>NaN</td>\n",
              "      <td>...</td>\n",
              "      <td>G5 IV</td>\n",
              "      <td>6.90</td>\n",
              "      <td>0.60</td>\n",
              "      <td>0.60</td>\n",
              "      <td>5600.0</td>\n",
              "      <td>80.0</td>\n",
              "      <td>80.0</td>\n",
              "      <td>NaN</td>\n",
              "      <td>NaN</td>\n",
              "      <td>HD 10697</td>\n",
              "    </tr>\n",
              "    <tr>\n",
              "      <th>1</th>\n",
              "      <td>11 Com b</td>\n",
              "      <td>Confirmed</td>\n",
              "      <td>16.1284</td>\n",
              "      <td>1.53491</td>\n",
              "      <td>1.53491</td>\n",
              "      <td>16.1284</td>\n",
              "      <td>1.53491</td>\n",
              "      <td>1.53491</td>\n",
              "      <td>NaN</td>\n",
              "      <td>NaN</td>\n",
              "      <td>...</td>\n",
              "      <td>G8 III</td>\n",
              "      <td>NaN</td>\n",
              "      <td>NaN</td>\n",
              "      <td>NaN</td>\n",
              "      <td>4742.0</td>\n",
              "      <td>100.0</td>\n",
              "      <td>100.0</td>\n",
              "      <td>NaN</td>\n",
              "      <td>NaN</td>\n",
              "      <td>NaN</td>\n",
              "    </tr>\n",
              "    <tr>\n",
              "      <th>2</th>\n",
              "      <td>11 UMi b</td>\n",
              "      <td>Confirmed</td>\n",
              "      <td>11.0873</td>\n",
              "      <td>1.10000</td>\n",
              "      <td>1.10000</td>\n",
              "      <td>11.0873</td>\n",
              "      <td>1.10000</td>\n",
              "      <td>1.10000</td>\n",
              "      <td>NaN</td>\n",
              "      <td>NaN</td>\n",
              "      <td>...</td>\n",
              "      <td>K4III</td>\n",
              "      <td>1.56</td>\n",
              "      <td>0.54</td>\n",
              "      <td>0.54</td>\n",
              "      <td>4340.0</td>\n",
              "      <td>70.0</td>\n",
              "      <td>70.0</td>\n",
              "      <td>NaN</td>\n",
              "      <td>NaN</td>\n",
              "      <td>NaN</td>\n",
              "    </tr>\n",
              "    <tr>\n",
              "      <th>3</th>\n",
              "      <td>14 And b</td>\n",
              "      <td>Confirmed</td>\n",
              "      <td>4.6840</td>\n",
              "      <td>0.23000</td>\n",
              "      <td>0.23000</td>\n",
              "      <td>4.6840</td>\n",
              "      <td>0.23000</td>\n",
              "      <td>0.23000</td>\n",
              "      <td>NaN</td>\n",
              "      <td>NaN</td>\n",
              "      <td>...</td>\n",
              "      <td>K0III</td>\n",
              "      <td>NaN</td>\n",
              "      <td>NaN</td>\n",
              "      <td>NaN</td>\n",
              "      <td>4813.0</td>\n",
              "      <td>20.0</td>\n",
              "      <td>20.0</td>\n",
              "      <td>NaN</td>\n",
              "      <td>NaN</td>\n",
              "      <td>NaN</td>\n",
              "    </tr>\n",
              "    <tr>\n",
              "      <th>4</th>\n",
              "      <td>14 Her b</td>\n",
              "      <td>Confirmed</td>\n",
              "      <td>NaN</td>\n",
              "      <td>NaN</td>\n",
              "      <td>NaN</td>\n",
              "      <td>NaN</td>\n",
              "      <td>4.95000</td>\n",
              "      <td>4.95000</td>\n",
              "      <td>NaN</td>\n",
              "      <td>NaN</td>\n",
              "      <td>...</td>\n",
              "      <td>K0 V</td>\n",
              "      <td>5.10</td>\n",
              "      <td>NaN</td>\n",
              "      <td>NaN</td>\n",
              "      <td>5311.0</td>\n",
              "      <td>87.0</td>\n",
              "      <td>87.0</td>\n",
              "      <td>NaN</td>\n",
              "      <td>NaN</td>\n",
              "      <td>NaN</td>\n",
              "    </tr>\n",
              "  </tbody>\n",
              "</table>\n",
              "<p>5 rows × 98 columns</p>\n",
              "</div>\n",
              "    <div class=\"colab-df-buttons\">\n",
              "      \n",
              "  <div class=\"colab-df-container\">\n",
              "    <button class=\"colab-df-convert\" onclick=\"convertToInteractive('df-93d657a0-4755-48e7-99b1-81d6c0d2c1cd')\"\n",
              "            title=\"Convert this dataframe to an interactive table.\"\n",
              "            style=\"display:none;\">\n",
              "      \n",
              "  <svg xmlns=\"http://www.w3.org/2000/svg\" height=\"24px\" viewBox=\"0 -960 960 960\">\n",
              "    <path d=\"M120-120v-720h720v720H120Zm60-500h600v-160H180v160Zm220 220h160v-160H400v160Zm0 220h160v-160H400v160ZM180-400h160v-160H180v160Zm440 0h160v-160H620v160ZM180-180h160v-160H180v160Zm440 0h160v-160H620v160Z\"/>\n",
              "  </svg>\n",
              "    </button>\n",
              "    \n",
              "  <style>\n",
              "    .colab-df-container {\n",
              "      display:flex;\n",
              "      gap: 12px;\n",
              "    }\n",
              "\n",
              "    .colab-df-convert {\n",
              "      background-color: #E8F0FE;\n",
              "      border: none;\n",
              "      border-radius: 50%;\n",
              "      cursor: pointer;\n",
              "      display: none;\n",
              "      fill: #1967D2;\n",
              "      height: 32px;\n",
              "      padding: 0 0 0 0;\n",
              "      width: 32px;\n",
              "    }\n",
              "\n",
              "    .colab-df-convert:hover {\n",
              "      background-color: #E2EBFA;\n",
              "      box-shadow: 0px 1px 2px rgba(60, 64, 67, 0.3), 0px 1px 3px 1px rgba(60, 64, 67, 0.15);\n",
              "      fill: #174EA6;\n",
              "    }\n",
              "\n",
              "    .colab-df-buttons div {\n",
              "      margin-bottom: 4px;\n",
              "    }\n",
              "\n",
              "    [theme=dark] .colab-df-convert {\n",
              "      background-color: #3B4455;\n",
              "      fill: #D2E3FC;\n",
              "    }\n",
              "\n",
              "    [theme=dark] .colab-df-convert:hover {\n",
              "      background-color: #434B5C;\n",
              "      box-shadow: 0px 1px 3px 1px rgba(0, 0, 0, 0.15);\n",
              "      filter: drop-shadow(0px 1px 2px rgba(0, 0, 0, 0.3));\n",
              "      fill: #FFFFFF;\n",
              "    }\n",
              "  </style>\n",
              "\n",
              "    <script>\n",
              "      const buttonEl =\n",
              "        document.querySelector('#df-93d657a0-4755-48e7-99b1-81d6c0d2c1cd button.colab-df-convert');\n",
              "      buttonEl.style.display =\n",
              "        google.colab.kernel.accessAllowed ? 'block' : 'none';\n",
              "\n",
              "      async function convertToInteractive(key) {\n",
              "        const element = document.querySelector('#df-93d657a0-4755-48e7-99b1-81d6c0d2c1cd');\n",
              "        const dataTable =\n",
              "          await google.colab.kernel.invokeFunction('convertToInteractive',\n",
              "                                                    [key], {});\n",
              "        if (!dataTable) return;\n",
              "\n",
              "        const docLinkHtml = 'Like what you see? Visit the ' +\n",
              "          '<a target=\"_blank\" href=https://colab.research.google.com/notebooks/data_table.ipynb>data table notebook</a>'\n",
              "          + ' to learn more about interactive tables.';\n",
              "        element.innerHTML = '';\n",
              "        dataTable['output_type'] = 'display_data';\n",
              "        await google.colab.output.renderOutput(dataTable, element);\n",
              "        const docLink = document.createElement('div');\n",
              "        docLink.innerHTML = docLinkHtml;\n",
              "        element.appendChild(docLink);\n",
              "      }\n",
              "    </script>\n",
              "  </div>\n",
              "  \n",
              "    </div>\n",
              "  </div>\n",
              "  "
            ],
            "application/vnd.google.colaboratory.intrinsic+json": {
              "type": "dataframe",
              "variable_name": "df"
            }
          },
          "metadata": {},
          "execution_count": 146
        }
      ]
    },
    {
      "cell_type": "code",
      "source": [
        "df.shape"
      ],
      "metadata": {
        "colab": {
          "base_uri": "https://localhost:8080/"
        },
        "id": "rTY0A2bThkQb",
        "outputId": "fc0568a7-ad80-431f-fe42-b77ee99a0e28"
      },
      "execution_count": null,
      "outputs": [
        {
          "output_type": "execute_result",
          "data": {
            "text/plain": [
              "(8544, 98)"
            ]
          },
          "metadata": {},
          "execution_count": 147
        }
      ]
    },
    {
      "cell_type": "code",
      "source": [
        "#Drop unnecessary columns\n",
        "df = df.drop(columns=['planet_status','name','star_sp_type','mag_i','mass_sini','alternate_names','mass_error_min','mass_error_max','mass_sini_error_min','mass_sini_error_max','radius_error_min','radius_error_max','orbital_period_error_min','orbital_period_error_max','semi_major_axis_error_min','semi_major_axis_error_max','eccentricity_error_min','eccentricity_error_max','inclination_error_min','inclination_error_max','molecules','discovered','tzero_tr_sec','tzero_tr_sec_error_min','tzero_tr_sec_error_max','lambda_angle','lambda_angle_error_min','lambda_angle_error_max','tzero_vr','tzero_vr_error_max','tzero_vr_error_min','temp_measured','hot_point_lon','geometric_albedo','geometric_albedo_error_min','geometric_albedo_error_max','log_g','star_magnetic_field'])\n",
        "df=df.drop(columns=['star_name','inclination','tzero_tr','mag_v','mag_k','mag_h','mag_j','omega','k','star_alternate_names','updated','angular_distance','omega_error_min','omega_error_max','tperi_error_min','tperi_error_max','tperi','tconj_error_min','tconj_error_max','tconj','tzero_tr_error_min','tzero_tr_error_max','impact_parameter_error_min','impact_parameter_error_max','k_error_min','k_error_max','temp_calculated_error_min','temp_calculated_error_max','star_distance_error_min','star_distance_error_max','star_metallicity_error_min','star_metallicity_error_max','star_mass_error_min','star_mass_error_max','star_radius_error_min','star_radius_error_max','star_age_error_min','star_age_error_max','star_teff_error_min','star_teff_error_max','star_detected_disc'])"
      ],
      "metadata": {
        "id": "9RIDWkyo1Dp7"
      },
      "execution_count": null,
      "outputs": []
    },
    {
      "cell_type": "code",
      "source": [
        "#Rename columns to write down the units\n",
        "df=df.rename(columns={'mass':'mass_Mjup','radius':'radius_Rjup','orbital_period':'orbital_period_days','semi_major_axis':'semi_major_axis_au','temp_calculated':'tempK_calculated','star_distance':'star_distance_pc','star_mass':'star_mass_Msun','star_radius':'star_radius_Rsun','star_age':'star_age_Gy','star_teff':'star_teffK'})"
      ],
      "metadata": {
        "id": "N_3jArQsHIGh"
      },
      "execution_count": null,
      "outputs": []
    },
    {
      "cell_type": "code",
      "source": [
        "df.radius_Rjup[df.radius_Rjup==0] = df.radius_Rjup.mode()"
      ],
      "metadata": {
        "colab": {
          "base_uri": "https://localhost:8080/"
        },
        "id": "HrLXdyB-eWs5",
        "outputId": "c3dcd90c-b26d-4491-f870-e76decb46ca5"
      },
      "execution_count": null,
      "outputs": [
        {
          "output_type": "stream",
          "name": "stderr",
          "text": [
            "<ipython-input-150-15f3e16fbcba>:1: SettingWithCopyWarning: \n",
            "A value is trying to be set on a copy of a slice from a DataFrame\n",
            "\n",
            "See the caveats in the documentation: https://pandas.pydata.org/pandas-docs/stable/user_guide/indexing.html#returning-a-view-versus-a-copy\n",
            "  df.radius_Rjup[df.radius_Rjup==0] = df.radius_Rjup.mode()\n"
          ]
        }
      ]
    },
    {
      "cell_type": "code",
      "source": [
        "df.radius_detection_type = df.radius_detection_type.fillna('Other')"
      ],
      "metadata": {
        "id": "CiFynRi2Le-V"
      },
      "execution_count": null,
      "outputs": []
    },
    {
      "cell_type": "code",
      "source": [
        "df.radius_detection_type.value_counts()"
      ],
      "metadata": {
        "colab": {
          "base_uri": "https://localhost:8080/"
        },
        "id": "MrgtcqZVQQoC",
        "outputId": "ac0eb6c0-13de-4c53-ce35-81d8834ab579"
      },
      "execution_count": null,
      "outputs": [
        {
          "output_type": "execute_result",
          "data": {
            "text/plain": [
              "radius_detection_type\n",
              "Other              6983\n",
              "Primary Transit    1431\n",
              "Theoretical          82\n",
              "Flux                 48\n",
              "Name: count, dtype: int64"
            ]
          },
          "metadata": {},
          "execution_count": 152
        }
      ]
    },
    {
      "cell_type": "code",
      "source": [
        "df.mass_detection_type=df.mass_detection_type.fillna('Other')"
      ],
      "metadata": {
        "id": "40XqR40CLt6w"
      },
      "execution_count": null,
      "outputs": []
    },
    {
      "cell_type": "code",
      "source": [
        "df.mass_detection_type.value_counts()"
      ],
      "metadata": {
        "colab": {
          "base_uri": "https://localhost:8080/"
        },
        "id": "FbOQ-ub-Q4XP",
        "outputId": "519a2c6d-0a17-453a-f817-5ca0e8e96a3c"
      },
      "execution_count": null,
      "outputs": [
        {
          "output_type": "execute_result",
          "data": {
            "text/plain": [
              "mass_detection_type\n",
              "Other              6054\n",
              "Radial Velocity    1545\n",
              "Spectrum            261\n",
              "Microlensing        232\n",
              "Theoretical         231\n",
              "TTV                  94\n",
              "Astrometry           89\n",
              "Timing               38\n",
              "Name: count, dtype: int64"
            ]
          },
          "metadata": {},
          "execution_count": 154
        }
      ]
    },
    {
      "cell_type": "code",
      "source": [
        "print(df.publication.unique())\n",
        "print(df.detection_type.unique())\n",
        "print(df.mass_detection_type.unique())\n",
        "print(df.radius_detection_type.unique())"
      ],
      "metadata": {
        "colab": {
          "base_uri": "https://localhost:8080/"
        },
        "id": "ju3jnQm4LjeL",
        "outputId": "ff51047b-a972-4897-8546-135b77512c8b"
      },
      "execution_count": null,
      "outputs": [
        {
          "output_type": "stream",
          "name": "stdout",
          "text": [
            "['Published in a refereed paper' 'Submitted to a professional journal'\n",
            " 'Announced on a professional conference' 'Announced on a website']\n",
            "['Radial Velocity' 'Imaging' 'Primary Transit' 'Astrometry'\n",
            " 'Timing, Kinematic' 'Other' 'TTV' 'Microlensing' 'Timing'\n",
            " 'Radial Velocity, Astrometry' 'Radial Velocity, Primary Transit'\n",
            " 'Primary Transit, Radial Velocity' 'Other, Imaging, Kinematic'\n",
            " 'Kinematic']\n",
            "['Radial Velocity' 'Astrometry' 'Spectrum' 'Other' 'Theoretical' 'Timing'\n",
            " 'TTV' 'Microlensing']\n",
            "['Theoretical' 'Other' 'Primary Transit' 'Flux']\n"
          ]
        }
      ]
    },
    {
      "cell_type": "code",
      "source": [
        "df.eccentricity = df.eccentricity.fillna(0).astype(float)"
      ],
      "metadata": {
        "id": "UNH9XGJtNuPs"
      },
      "execution_count": null,
      "outputs": []
    },
    {
      "cell_type": "code",
      "source": [
        "df.info()"
      ],
      "metadata": {
        "colab": {
          "base_uri": "https://localhost:8080/"
        },
        "id": "u3HFcxJ83BY3",
        "outputId": "0c4a26f0-538a-4a12-ee69-2d0b809e2dfd"
      },
      "execution_count": null,
      "outputs": [
        {
          "output_type": "stream",
          "name": "stdout",
          "text": [
            "<class 'pandas.core.frame.DataFrame'>\n",
            "RangeIndex: 8544 entries, 0 to 8543\n",
            "Data columns (total 19 columns):\n",
            " #   Column                 Non-Null Count  Dtype  \n",
            "---  ------                 --------------  -----  \n",
            " 0   mass_Mjup              3621 non-null   float64\n",
            " 1   radius_Rjup            6425 non-null   float64\n",
            " 2   orbital_period_days    7913 non-null   float64\n",
            " 3   semi_major_axis_au     6346 non-null   float64\n",
            " 4   eccentricity           8544 non-null   float64\n",
            " 5   impact_parameter       4212 non-null   float64\n",
            " 6   tempK_calculated       3583 non-null   float64\n",
            " 7   publication            8544 non-null   object \n",
            " 8   detection_type         8544 non-null   object \n",
            " 9   mass_detection_type    8544 non-null   object \n",
            " 10  radius_detection_type  8544 non-null   object \n",
            " 11  ra                     8542 non-null   float64\n",
            " 12  dec                    8542 non-null   float64\n",
            " 13  star_distance_pc       5798 non-null   float64\n",
            " 14  star_metallicity       6869 non-null   float64\n",
            " 15  star_mass_Msun         7672 non-null   float64\n",
            " 16  star_radius_Rsun       7149 non-null   float64\n",
            " 17  star_age_Gy            3186 non-null   float64\n",
            " 18  star_teffK             7384 non-null   float64\n",
            "dtypes: float64(15), object(4)\n",
            "memory usage: 1.2+ MB\n"
          ]
        }
      ]
    },
    {
      "cell_type": "code",
      "source": [
        "df.describe()"
      ],
      "metadata": {
        "colab": {
          "base_uri": "https://localhost:8080/",
          "height": 320
        },
        "id": "3JAs8ElhkwRD",
        "outputId": "3af10889-63a5-4322-e6e8-012fa72d7f10"
      },
      "execution_count": null,
      "outputs": [
        {
          "output_type": "execute_result",
          "data": {
            "text/plain": [
              "         mass_Mjup   radius_Rjup  orbital_period_days  semi_major_axis_au  \\\n",
              "count  3621.000000  6.425000e+03         7.913000e+03         6346.000000   \n",
              "mean     10.641253  5.272742e+00         2.080627e+03           17.971822   \n",
              "std      38.699861  8.665801e+01         9.400065e+04          258.576125   \n",
              "min       0.000002  6.200000e-12         1.250000e-02            0.000015   \n",
              "25%       0.051000  1.330000e-01         4.514366e+00            0.055000   \n",
              "50%       0.870000  2.130000e-01         1.277000e+01            0.117500   \n",
              "75%       5.400000  6.210000e-01         5.647542e+01            0.548500   \n",
              "max     690.000000  4.332120e+03         8.035500e+06         9900.000000   \n",
              "\n",
              "       eccentricity  impact_parameter  tempK_calculated           ra  \\\n",
              "count   8544.000000       4212.000000       3583.000000  8542.000000   \n",
              "mean       0.054401          0.979895        933.321663   243.569477   \n",
              "std        0.140811          5.983072        629.572047    86.685166   \n",
              "min        0.000000         -0.629000         25.000000     0.000000   \n",
              "25%        0.000000          0.180000        516.000000   208.036875   \n",
              "50%        0.000000          0.390000        798.000000   287.535030   \n",
              "75%        0.000195          0.694525       1204.500000   294.286455   \n",
              "max        3.155000         98.041400      14225.000000   359.975000   \n",
              "\n",
              "               dec  star_distance_pc  star_metallicity  star_mass_Msun  \\\n",
              "count  8542.000000       5798.000000       6869.000000     7672.000000   \n",
              "mean     22.438962        813.011784          0.739434        0.959170   \n",
              "std      34.826328       8882.025233         66.495401        0.456664   \n",
              "min     -88.121111          1.295000         -2.090000        0.011000   \n",
              "25%      -0.893820         77.245000         -0.180000        0.787450   \n",
              "50%      40.669407        333.795000         -0.030000        0.950000   \n",
              "75%      45.676984        801.760000          0.070000        1.091000   \n",
              "max      85.736111     670000.000000       5511.000000       20.000000   \n",
              "\n",
              "       star_radius_Rsun  star_age_Gy     star_teffK  \n",
              "count       7149.000000  3186.000000    7384.000000  \n",
              "mean           1.573801     4.220170    5564.936022  \n",
              "std            4.258284     2.624924    2801.519021  \n",
              "min            0.000020     0.000020     575.000000  \n",
              "25%            0.790000     2.510000    5039.000000  \n",
              "50%            0.964000     4.070000    5627.000000  \n",
              "75%            1.250000     5.125000    6007.000000  \n",
              "max          149.058000    15.000000  200000.000000  "
            ],
            "text/html": [
              "\n",
              "  <div id=\"df-d825c875-8f0c-4098-9504-3cd1118fffe5\" class=\"colab-df-container\">\n",
              "    <div>\n",
              "<style scoped>\n",
              "    .dataframe tbody tr th:only-of-type {\n",
              "        vertical-align: middle;\n",
              "    }\n",
              "\n",
              "    .dataframe tbody tr th {\n",
              "        vertical-align: top;\n",
              "    }\n",
              "\n",
              "    .dataframe thead th {\n",
              "        text-align: right;\n",
              "    }\n",
              "</style>\n",
              "<table border=\"1\" class=\"dataframe\">\n",
              "  <thead>\n",
              "    <tr style=\"text-align: right;\">\n",
              "      <th></th>\n",
              "      <th>mass_Mjup</th>\n",
              "      <th>radius_Rjup</th>\n",
              "      <th>orbital_period_days</th>\n",
              "      <th>semi_major_axis_au</th>\n",
              "      <th>eccentricity</th>\n",
              "      <th>impact_parameter</th>\n",
              "      <th>tempK_calculated</th>\n",
              "      <th>ra</th>\n",
              "      <th>dec</th>\n",
              "      <th>star_distance_pc</th>\n",
              "      <th>star_metallicity</th>\n",
              "      <th>star_mass_Msun</th>\n",
              "      <th>star_radius_Rsun</th>\n",
              "      <th>star_age_Gy</th>\n",
              "      <th>star_teffK</th>\n",
              "    </tr>\n",
              "  </thead>\n",
              "  <tbody>\n",
              "    <tr>\n",
              "      <th>count</th>\n",
              "      <td>3621.000000</td>\n",
              "      <td>6.425000e+03</td>\n",
              "      <td>7.913000e+03</td>\n",
              "      <td>6346.000000</td>\n",
              "      <td>8544.000000</td>\n",
              "      <td>4212.000000</td>\n",
              "      <td>3583.000000</td>\n",
              "      <td>8542.000000</td>\n",
              "      <td>8542.000000</td>\n",
              "      <td>5798.000000</td>\n",
              "      <td>6869.000000</td>\n",
              "      <td>7672.000000</td>\n",
              "      <td>7149.000000</td>\n",
              "      <td>3186.000000</td>\n",
              "      <td>7384.000000</td>\n",
              "    </tr>\n",
              "    <tr>\n",
              "      <th>mean</th>\n",
              "      <td>10.641253</td>\n",
              "      <td>5.272742e+00</td>\n",
              "      <td>2.080627e+03</td>\n",
              "      <td>17.971822</td>\n",
              "      <td>0.054401</td>\n",
              "      <td>0.979895</td>\n",
              "      <td>933.321663</td>\n",
              "      <td>243.569477</td>\n",
              "      <td>22.438962</td>\n",
              "      <td>813.011784</td>\n",
              "      <td>0.739434</td>\n",
              "      <td>0.959170</td>\n",
              "      <td>1.573801</td>\n",
              "      <td>4.220170</td>\n",
              "      <td>5564.936022</td>\n",
              "    </tr>\n",
              "    <tr>\n",
              "      <th>std</th>\n",
              "      <td>38.699861</td>\n",
              "      <td>8.665801e+01</td>\n",
              "      <td>9.400065e+04</td>\n",
              "      <td>258.576125</td>\n",
              "      <td>0.140811</td>\n",
              "      <td>5.983072</td>\n",
              "      <td>629.572047</td>\n",
              "      <td>86.685166</td>\n",
              "      <td>34.826328</td>\n",
              "      <td>8882.025233</td>\n",
              "      <td>66.495401</td>\n",
              "      <td>0.456664</td>\n",
              "      <td>4.258284</td>\n",
              "      <td>2.624924</td>\n",
              "      <td>2801.519021</td>\n",
              "    </tr>\n",
              "    <tr>\n",
              "      <th>min</th>\n",
              "      <td>0.000002</td>\n",
              "      <td>6.200000e-12</td>\n",
              "      <td>1.250000e-02</td>\n",
              "      <td>0.000015</td>\n",
              "      <td>0.000000</td>\n",
              "      <td>-0.629000</td>\n",
              "      <td>25.000000</td>\n",
              "      <td>0.000000</td>\n",
              "      <td>-88.121111</td>\n",
              "      <td>1.295000</td>\n",
              "      <td>-2.090000</td>\n",
              "      <td>0.011000</td>\n",
              "      <td>0.000020</td>\n",
              "      <td>0.000020</td>\n",
              "      <td>575.000000</td>\n",
              "    </tr>\n",
              "    <tr>\n",
              "      <th>25%</th>\n",
              "      <td>0.051000</td>\n",
              "      <td>1.330000e-01</td>\n",
              "      <td>4.514366e+00</td>\n",
              "      <td>0.055000</td>\n",
              "      <td>0.000000</td>\n",
              "      <td>0.180000</td>\n",
              "      <td>516.000000</td>\n",
              "      <td>208.036875</td>\n",
              "      <td>-0.893820</td>\n",
              "      <td>77.245000</td>\n",
              "      <td>-0.180000</td>\n",
              "      <td>0.787450</td>\n",
              "      <td>0.790000</td>\n",
              "      <td>2.510000</td>\n",
              "      <td>5039.000000</td>\n",
              "    </tr>\n",
              "    <tr>\n",
              "      <th>50%</th>\n",
              "      <td>0.870000</td>\n",
              "      <td>2.130000e-01</td>\n",
              "      <td>1.277000e+01</td>\n",
              "      <td>0.117500</td>\n",
              "      <td>0.000000</td>\n",
              "      <td>0.390000</td>\n",
              "      <td>798.000000</td>\n",
              "      <td>287.535030</td>\n",
              "      <td>40.669407</td>\n",
              "      <td>333.795000</td>\n",
              "      <td>-0.030000</td>\n",
              "      <td>0.950000</td>\n",
              "      <td>0.964000</td>\n",
              "      <td>4.070000</td>\n",
              "      <td>5627.000000</td>\n",
              "    </tr>\n",
              "    <tr>\n",
              "      <th>75%</th>\n",
              "      <td>5.400000</td>\n",
              "      <td>6.210000e-01</td>\n",
              "      <td>5.647542e+01</td>\n",
              "      <td>0.548500</td>\n",
              "      <td>0.000195</td>\n",
              "      <td>0.694525</td>\n",
              "      <td>1204.500000</td>\n",
              "      <td>294.286455</td>\n",
              "      <td>45.676984</td>\n",
              "      <td>801.760000</td>\n",
              "      <td>0.070000</td>\n",
              "      <td>1.091000</td>\n",
              "      <td>1.250000</td>\n",
              "      <td>5.125000</td>\n",
              "      <td>6007.000000</td>\n",
              "    </tr>\n",
              "    <tr>\n",
              "      <th>max</th>\n",
              "      <td>690.000000</td>\n",
              "      <td>4.332120e+03</td>\n",
              "      <td>8.035500e+06</td>\n",
              "      <td>9900.000000</td>\n",
              "      <td>3.155000</td>\n",
              "      <td>98.041400</td>\n",
              "      <td>14225.000000</td>\n",
              "      <td>359.975000</td>\n",
              "      <td>85.736111</td>\n",
              "      <td>670000.000000</td>\n",
              "      <td>5511.000000</td>\n",
              "      <td>20.000000</td>\n",
              "      <td>149.058000</td>\n",
              "      <td>15.000000</td>\n",
              "      <td>200000.000000</td>\n",
              "    </tr>\n",
              "  </tbody>\n",
              "</table>\n",
              "</div>\n",
              "    <div class=\"colab-df-buttons\">\n",
              "      \n",
              "  <div class=\"colab-df-container\">\n",
              "    <button class=\"colab-df-convert\" onclick=\"convertToInteractive('df-d825c875-8f0c-4098-9504-3cd1118fffe5')\"\n",
              "            title=\"Convert this dataframe to an interactive table.\"\n",
              "            style=\"display:none;\">\n",
              "      \n",
              "  <svg xmlns=\"http://www.w3.org/2000/svg\" height=\"24px\" viewBox=\"0 -960 960 960\">\n",
              "    <path d=\"M120-120v-720h720v720H120Zm60-500h600v-160H180v160Zm220 220h160v-160H400v160Zm0 220h160v-160H400v160ZM180-400h160v-160H180v160Zm440 0h160v-160H620v160ZM180-180h160v-160H180v160Zm440 0h160v-160H620v160Z\"/>\n",
              "  </svg>\n",
              "    </button>\n",
              "    \n",
              "  <style>\n",
              "    .colab-df-container {\n",
              "      display:flex;\n",
              "      gap: 12px;\n",
              "    }\n",
              "\n",
              "    .colab-df-convert {\n",
              "      background-color: #E8F0FE;\n",
              "      border: none;\n",
              "      border-radius: 50%;\n",
              "      cursor: pointer;\n",
              "      display: none;\n",
              "      fill: #1967D2;\n",
              "      height: 32px;\n",
              "      padding: 0 0 0 0;\n",
              "      width: 32px;\n",
              "    }\n",
              "\n",
              "    .colab-df-convert:hover {\n",
              "      background-color: #E2EBFA;\n",
              "      box-shadow: 0px 1px 2px rgba(60, 64, 67, 0.3), 0px 1px 3px 1px rgba(60, 64, 67, 0.15);\n",
              "      fill: #174EA6;\n",
              "    }\n",
              "\n",
              "    .colab-df-buttons div {\n",
              "      margin-bottom: 4px;\n",
              "    }\n",
              "\n",
              "    [theme=dark] .colab-df-convert {\n",
              "      background-color: #3B4455;\n",
              "      fill: #D2E3FC;\n",
              "    }\n",
              "\n",
              "    [theme=dark] .colab-df-convert:hover {\n",
              "      background-color: #434B5C;\n",
              "      box-shadow: 0px 1px 3px 1px rgba(0, 0, 0, 0.15);\n",
              "      filter: drop-shadow(0px 1px 2px rgba(0, 0, 0, 0.3));\n",
              "      fill: #FFFFFF;\n",
              "    }\n",
              "  </style>\n",
              "\n",
              "    <script>\n",
              "      const buttonEl =\n",
              "        document.querySelector('#df-d825c875-8f0c-4098-9504-3cd1118fffe5 button.colab-df-convert');\n",
              "      buttonEl.style.display =\n",
              "        google.colab.kernel.accessAllowed ? 'block' : 'none';\n",
              "\n",
              "      async function convertToInteractive(key) {\n",
              "        const element = document.querySelector('#df-d825c875-8f0c-4098-9504-3cd1118fffe5');\n",
              "        const dataTable =\n",
              "          await google.colab.kernel.invokeFunction('convertToInteractive',\n",
              "                                                    [key], {});\n",
              "        if (!dataTable) return;\n",
              "\n",
              "        const docLinkHtml = 'Like what you see? Visit the ' +\n",
              "          '<a target=\"_blank\" href=https://colab.research.google.com/notebooks/data_table.ipynb>data table notebook</a>'\n",
              "          + ' to learn more about interactive tables.';\n",
              "        element.innerHTML = '';\n",
              "        dataTable['output_type'] = 'display_data';\n",
              "        await google.colab.output.renderOutput(dataTable, element);\n",
              "        const docLink = document.createElement('div');\n",
              "        docLink.innerHTML = docLinkHtml;\n",
              "        element.appendChild(docLink);\n",
              "      }\n",
              "    </script>\n",
              "  </div>\n",
              "  \n",
              "    </div>\n",
              "  </div>\n",
              "  "
            ],
            "application/vnd.google.colaboratory.intrinsic+json": {
              "type": "dataframe",
              "summary": "{\n  \"name\": \"df\",\n  \"rows\": 8,\n  \"fields\": [\n    {\n      \"column\": \"mass_Mjup\",\n      \"properties\": {\n        \"dtype\": \"number\",\n        \"std\": 1265.2450118620802,\n        \"min\": 2.1e-06,\n        \"max\": 3621.0,\n        \"num_unique_values\": 8,\n        \"samples\": [\n          10.641252903445555,\n          0.87,\n          3621.0\n        ],\n        \"semantic_type\": \"\",\n        \"description\": \"\"\n      }\n    },\n    {\n      \"column\": \"radius_Rjup\",\n      \"properties\": {\n        \"dtype\": \"number\",\n        \"std\": 2545.0250039415555,\n        \"min\": 6.2e-12,\n        \"max\": 6425.0,\n        \"num_unique_values\": 8,\n        \"samples\": [\n          5.27274182668162,\n          0.213,\n          6425.0\n        ],\n        \"semantic_type\": \"\",\n        \"description\": \"\"\n      }\n    },\n    {\n      \"column\": \"orbital_period_days\",\n      \"properties\": {\n        \"dtype\": \"number\",\n        \"std\": 2835907.320793502,\n        \"min\": 0.0125,\n        \"max\": 8035500.0,\n        \"num_unique_values\": 8,\n        \"samples\": [\n          2080.6273604994626,\n          12.77,\n          7913.0\n        ],\n        \"semantic_type\": \"\",\n        \"description\": \"\"\n      }\n    },\n    {\n      \"column\": \"semi_major_axis_au\",\n      \"properties\": {\n        \"dtype\": \"number\",\n        \"std\": 3858.600759855455,\n        \"min\": 1.5e-05,\n        \"max\": 9900.0,\n        \"num_unique_values\": 8,\n        \"samples\": [\n          17.971821559567918,\n          0.1175,\n          6346.0\n        ],\n        \"semantic_type\": \"\",\n        \"description\": \"\"\n      }\n    },\n    {\n      \"column\": \"eccentricity\",\n      \"properties\": {\n        \"dtype\": \"number\",\n        \"std\": 3020.5911461342935,\n        \"min\": 0.0,\n        \"max\": 8544.0,\n        \"num_unique_values\": 6,\n        \"samples\": [\n          8544.0,\n          0.05440072054873474,\n          3.155\n        ],\n        \"semantic_type\": \"\",\n        \"description\": \"\"\n      }\n    },\n    {\n      \"column\": \"impact_parameter\",\n      \"properties\": {\n        \"dtype\": \"number\",\n        \"std\": 1484.2189940613093,\n        \"min\": -0.629,\n        \"max\": 4212.0,\n        \"num_unique_values\": 8,\n        \"samples\": [\n          0.9798954779202279,\n          0.39,\n          4212.0\n        ],\n        \"semantic_type\": \"\",\n        \"description\": \"\"\n      }\n    },\n    {\n      \"column\": \"tempK_calculated\",\n      \"properties\": {\n        \"dtype\": \"number\",\n        \"std\": 4762.658142543472,\n        \"min\": 25.0,\n        \"max\": 14225.0,\n        \"num_unique_values\": 8,\n        \"samples\": [\n          933.3216634105498,\n          798.0,\n          3583.0\n        ],\n        \"semantic_type\": \"\",\n        \"description\": \"\"\n      }\n    },\n    {\n      \"column\": \"ra\",\n      \"properties\": {\n        \"dtype\": \"number\",\n        \"std\": 2947.6253316178336,\n        \"min\": 0.0,\n        \"max\": 8542.0,\n        \"num_unique_values\": 8,\n        \"samples\": [\n          243.56947709249363,\n          287.53503,\n          8542.0\n        ],\n        \"semantic_type\": \"\",\n        \"description\": \"\"\n      }\n    },\n    {\n      \"column\": \"dec\",\n      \"properties\": {\n        \"dtype\": \"number\",\n        \"std\": 3013.386196607812,\n        \"min\": -88.121111117,\n        \"max\": 8542.0,\n        \"num_unique_values\": 8,\n        \"samples\": [\n          22.438962428962117,\n          40.669407,\n          8542.0\n        ],\n        \"semantic_type\": \"\",\n        \"description\": \"\"\n      }\n    },\n    {\n      \"column\": \"star_distance_pc\",\n      \"properties\": {\n        \"dtype\": \"number\",\n        \"std\": 236059.3426376905,\n        \"min\": 1.295,\n        \"max\": 670000.0,\n        \"num_unique_values\": 8,\n        \"samples\": [\n          813.0117837012763,\n          333.79499999999996,\n          5798.0\n        ],\n        \"semantic_type\": \"\",\n        \"description\": \"\"\n      }\n    },\n    {\n      \"column\": \"star_metallicity\",\n      \"properties\": {\n        \"dtype\": \"number\",\n        \"std\": 2883.4240663436967,\n        \"min\": -2.09,\n        \"max\": 6869.0,\n        \"num_unique_values\": 8,\n        \"samples\": [\n          0.7394338943077596,\n          -0.03,\n          6869.0\n        ],\n        \"semantic_type\": \"\",\n        \"description\": \"\"\n      }\n    },\n    {\n      \"column\": \"star_mass_Msun\",\n      \"properties\": {\n        \"dtype\": \"number\",\n        \"std\": 2711.2449609201644,\n        \"min\": 0.011,\n        \"max\": 7672.0,\n        \"num_unique_values\": 8,\n        \"samples\": [\n          0.9591704259749738,\n          0.95,\n          7672.0\n        ],\n        \"semantic_type\": \"\",\n        \"description\": \"\"\n      }\n    },\n    {\n      \"column\": \"star_radius_Rsun\",\n      \"properties\": {\n        \"dtype\": \"number\",\n        \"std\": 2520.107858529755,\n        \"min\": 2e-05,\n        \"max\": 7149.0,\n        \"num_unique_values\": 8,\n        \"samples\": [\n          1.5738012898125613,\n          0.964,\n          7149.0\n        ],\n        \"semantic_type\": \"\",\n        \"description\": \"\"\n      }\n    },\n    {\n      \"column\": \"star_age_Gy\",\n      \"properties\": {\n        \"dtype\": \"number\",\n        \"std\": 1124.7353316181539,\n        \"min\": 2e-05,\n        \"max\": 3186.0,\n        \"num_unique_values\": 8,\n        \"samples\": [\n          4.220170320150659,\n          4.07,\n          3186.0\n        ],\n        \"semantic_type\": \"\",\n        \"description\": \"\"\n      }\n    },\n    {\n      \"column\": \"star_teffK\",\n      \"properties\": {\n        \"dtype\": \"number\",\n        \"std\": 69076.32920519091,\n        \"min\": 575.0,\n        \"max\": 200000.0,\n        \"num_unique_values\": 8,\n        \"samples\": [\n          5564.936021560129,\n          5627.0,\n          7384.0\n        ],\n        \"semantic_type\": \"\",\n        \"description\": \"\"\n      }\n    }\n  ]\n}"
            }
          },
          "metadata": {},
          "execution_count": 158
        }
      ]
    },
    {
      "cell_type": "code",
      "source": [
        "bins=np.arange(0,5,0.3)\n",
        "ticks=np.arange(0,5,1)\n",
        "fig=plt.figure(figsize=(8,5))\n",
        "plt.hist(df.mass_Mjup, bins=bins)\n",
        "plt.xticks(ticks)\n",
        "plt.title('mass_hist')\n",
        "plt.xlabel('mass')\n",
        "plt.show()"
      ],
      "metadata": {
        "colab": {
          "base_uri": "https://localhost:8080/",
          "height": 203
        },
        "id": "M50TckxdcqMZ",
        "outputId": "235e6163-fe3c-4842-c3a3-622550a5c562"
      },
      "execution_count": null,
      "outputs": [
        {
          "output_type": "display_data",
          "data": {
            "text/plain": [
              "<Figure size 800x500 with 1 Axes>"
            ],
            "image/png": "[encoded data removed]"
          },
          "metadata": {}
        }
      ]
    },
    {
      "cell_type": "code",
      "source": [
        "print('mean : ', df.mass_Mjup.mean())\n",
        "print('stdev : ', df.mass_Mjup.std())\n",
        "print('skewness : ',df.mass_Mjup.skew())"
      ],
      "metadata": {
        "colab": {
          "base_uri": "https://localhost:8080/"
        },
        "id": "LMO9aivrdL68",
        "outputId": "ad5c2bbe-5671-47f4-cc5f-a3115694a53e"
      },
      "execution_count": null,
      "outputs": [
        {
          "output_type": "stream",
          "name": "stdout",
          "text": [
            "mean :  10.641252903445555\n",
            "stdev :  38.69986129103472\n",
            "skewness :  8.638628511514376\n"
          ]
        }
      ]
    },
    {
      "cell_type": "code",
      "source": [
        "bins=np.arange(0,2.5,0.05)\n",
        "ticks=np.arange(0,2.5,0.5)\n",
        "fig=plt.figure(figsize=(8,5))\n",
        "plt.hist(df.radius_Rjup, bins=bins)\n",
        "plt.xticks(ticks)\n",
        "plt.title('radius_hist')\n",
        "plt.xlabel('radius')\n",
        "plt.show()"
      ],
      "metadata": {
        "colab": {
          "base_uri": "https://localhost:8080/",
          "height": 203
        },
        "id": "r0E-VMXdhN-g",
        "outputId": "6cbe2272-e4dc-488d-d8d0-a63fd36a7ed8"
      },
      "execution_count": null,
      "outputs": [
        {
          "output_type": "display_data",
          "data": {
            "text/plain": [
              "<Figure size 800x500 with 1 Axes>"
            ],
            "image/png": "[encoded data removed]"
          },
          "metadata": {}
        }
      ]
    },
    {
      "cell_type": "code",
      "source": [
        "print('mean : ', df.radius_Rjup.mean())\n",
        "print('stdev : ', df.radius_Rjup.std() )\n",
        "print('skewness : ', df.radius_Rjup.skew())"
      ],
      "metadata": {
        "colab": {
          "base_uri": "https://localhost:8080/"
        },
        "id": "lmugPvMpd5kn",
        "outputId": "ac9f6421-bdbb-4f97-fc7c-a2e6cd1e827b"
      },
      "execution_count": null,
      "outputs": [
        {
          "output_type": "stream",
          "name": "stdout",
          "text": [
            "mean :  5.27274182668162\n",
            "stdev :  86.6580135126384\n",
            "skewness :  31.3295219848111\n"
          ]
        }
      ]
    },
    {
      "cell_type": "code",
      "source": [
        "bins=np.arange(0,100,1)\n",
        "ticks=np.arange(0,100,10)\n",
        "fig=plt.figure(figsize=(8,5))\n",
        "plt.hist(df.orbital_period_days, bins=bins)\n",
        "plt.xticks(ticks)\n",
        "plt.title('orbital_period_hist')\n",
        "plt.xlabel('orbital_period(days)')\n",
        "plt.show()"
      ],
      "metadata": {
        "id": "D5H0dsCClENS",
        "colab": {
          "base_uri": "https://localhost:8080/",
          "height": 205
        },
        "outputId": "0dff2842-b976-41d8-a264-3c28decf502e"
      },
      "execution_count": null,
      "outputs": [
        {
          "output_type": "display_data",
          "data": {
            "text/plain": [
              "<Figure size 800x500 with 1 Axes>"
            ],
            "image/png": "[encoded data removed]"
          },
          "metadata": {}
        }
      ]
    },
    {
      "cell_type": "code",
      "source": [
        "bins=np.arange(0,1,0.025)\n",
        "ticks=np.arange(0,1,0.1)\n",
        "fig=plt.figure(figsize=(8,5))\n",
        "plt.hist(df.eccentricity, bins=bins)\n",
        "plt.xticks(ticks)\n",
        "plt.title('eccentricity_hist')\n",
        "plt.xlabel('eccentricity')\n",
        "plt.show()"
      ],
      "metadata": {
        "colab": {
          "base_uri": "https://localhost:8080/",
          "height": 203
        },
        "id": "YmGzMS-BFfoL",
        "outputId": "a60c31f2-3eab-427f-cfdd-44921280f667"
      },
      "execution_count": null,
      "outputs": [
        {
          "output_type": "display_data",
          "data": {
            "text/plain": [
              "<Figure size 800x500 with 1 Axes>"
            ],
            "image/png": "[encoded data removed]"
          },
          "metadata": {}
        }
      ]
    },
    {
      "cell_type": "code",
      "source": [
        "print('mean : ', df.eccentricity.mean())\n",
        "print('stdev : ', df.eccentricity.std() )\n",
        "print('skewness : ', df.eccentricity.skew())"
      ],
      "metadata": {
        "id": "iCkfECMwjVex",
        "colab": {
          "base_uri": "https://localhost:8080/"
        },
        "outputId": "4d24a576-0478-449d-d560-46f09dae511e"
      },
      "execution_count": null,
      "outputs": [
        {
          "output_type": "stream",
          "name": "stdout",
          "text": [
            "mean :  0.05440072054873474\n",
            "stdev :  0.14081107946105528\n",
            "skewness :  4.631854555544267\n"
          ]
        }
      ]
    },
    {
      "cell_type": "code",
      "source": [
        "bins=np.arange(0,16,0.5)\n",
        "ticks=np.arange(0,16,1)\n",
        "fig=plt.figure(figsize=(8,5))\n",
        "plt.hist(df.star_age_Gy, bins=bins)\n",
        "plt.xticks(ticks)\n",
        "plt.title('star_age_hist')\n",
        "plt.xlabel('Age(Gy)')\n",
        "plt.show()"
      ],
      "metadata": {
        "colab": {
          "base_uri": "https://localhost:8080/",
          "height": 205
        },
        "id": "q5iGS9g51Pk1",
        "outputId": "5188606d-4ed3-48c2-d25e-f680f435d827"
      },
      "execution_count": null,
      "outputs": [
        {
          "output_type": "display_data",
          "data": {
            "text/plain": [
              "<Figure size 800x500 with 1 Axes>"
            ],
            "image/png": "[encoded data removed]"
          },
          "metadata": {}
        }
      ]
    },
    {
      "cell_type": "code",
      "source": [
        "print('mean : ', df.star_age_Gy.mean())\n",
        "print('stdev : ', df.star_age_Gy.std() )\n",
        "print('skewness : ', df.star_age_Gy.skew())"
      ],
      "metadata": {
        "colab": {
          "base_uri": "https://localhost:8080/"
        },
        "id": "IISJ5Csn14ij",
        "outputId": "194480db-f989-4b96-faf0-f974a91bbaef"
      },
      "execution_count": null,
      "outputs": [
        {
          "output_type": "stream",
          "name": "stdout",
          "text": [
            "mean :  4.220170320150659\n",
            "stdev :  2.6249240372497713\n",
            "skewness :  0.8869700952796008\n"
          ]
        }
      ]
    }
  ]
}