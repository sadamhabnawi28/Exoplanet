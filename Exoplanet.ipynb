{
  "nbformat": 4,
  "nbformat_minor": 0,
  "metadata": {
    "colab": {
      "provenance": [],
      "mount_file_id": "1Qn51OgJNu-yyo_MeL7OO-Y3hM__eiOO3",
      "authorship_tag": "ABX9TyNLpNUkiZ8KqidMtxrw0LHG",
      "include_colab_link": true
    },
    "kernelspec": {
      "name": "python3",
      "display_name": "Python 3"
    },
    "language_info": {
      "name": "python"
    }
  },
  "cells": [
    {
      "cell_type": "markdown",
      "metadata": {
        "id": "view-in-github",
        "colab_type": "text"
      },
      "source": [
        "<a href=\"https://colab.research.google.com/github/sadamhabnawi28/Exoplanet/blob/main/Exoplanet.ipynb\" target=\"_parent\"><img src=\"https://colab.research.google.com/assets/colab-badge.svg\" alt=\"Open In Colab\"/></a>"
      ]
    },
    {
      "cell_type": "markdown",
      "source": [
        "#Import Library and Data"
      ],
      "metadata": {
        "id": "El3pjDPecUOu"
      }
    },
    {
      "cell_type": "code",
      "execution_count": null,
      "metadata": {
        "id": "ygpPQndIcRuO"
      },
      "outputs": [],
      "source": [
        "import pandas as pd\n",
        "import numpy as np\n",
        "import matplotlib.pyplot as plt\n",
        "import seaborn as sns\n",
        "\n",
        "from sklearn.model_selection import train_test_split\n",
        "from sklearn.preprocessing import StandardScaler\n",
        "\n",
        "from sklearn.linear_model import LinearRegression\n",
        "from sklearn.tree import DecisionTreeRegressor\n",
        "from sklearn.ensemble import RandomForestRegressor\n",
        "\n",
        "from keras import models, layers, optimizers\n",
        "from keras.models import Sequential\n",
        "\n",
        "from sklearn.metrics import mean_absolute_error, mean_squared_error, r2_score"
      ]
    },
    {
      "cell_type": "code",
      "source": [
        "path = '/content/drive/MyDrive/Astronomy data/Exoplanet_data/'"
      ],
      "metadata": {
        "id": "5QRfojRZcp8D"
      },
      "execution_count": null,
      "outputs": []
    },
    {
      "cell_type": "code",
      "source": [
        "df_con=pd.read_csv(path+'exoplanet_confirmed.csv')\n",
        "df_can=pd.read_csv(path+'exoplanet_candidate.csv')\n",
        "df_oth=pd.read_csv(path+'exoplanet_other.csv')"
      ],
      "metadata": {
        "id": "3hPK1dSMc8lD"
      },
      "execution_count": null,
      "outputs": []
    },
    {
      "cell_type": "code",
      "source": [
        "df0= pd.concat([df_con,df_can], ignore_index=True)\n",
        "df = pd.concat([df0,df_oth],ignore_index=True)"
      ],
      "metadata": {
        "id": "U0OvsW79gTry"
      },
      "execution_count": null,
      "outputs": []
    },
    {
      "cell_type": "code",
      "source": [
        "df1 = pd.read_csv('/content/drive/MyDrive/Astronomy data/Exoplanet_data/NASA_exoplanet.csv')"
      ],
      "metadata": {
        "id": "YyHXo0X2NoFI"
      },
      "execution_count": null,
      "outputs": []
    },
    {
      "cell_type": "markdown",
      "source": [
        "#Data Preprocessing and EDA"
      ],
      "metadata": {
        "id": "Y2uNftPJSvQX"
      }
    },
    {
      "cell_type": "markdown",
      "source": [
        "##Exoplanet.eu"
      ],
      "metadata": {
        "id": "v8DxkmexNG1I"
      }
    },
    {
      "cell_type": "code",
      "source": [
        "df.head()"
      ],
      "metadata": {
        "colab": {
          "base_uri": "https://localhost:8080/",
          "height": 412
        },
        "id": "iqCJfuWMhfxc",
        "outputId": "ae2ce8cb-fa4a-4ba8-fae5-57998d3ec5c6"
      },
      "execution_count": null,
      "outputs": [
        {
          "output_type": "execute_result",
          "data": {
            "text/plain": [
              "        name planet_status     mass  mass_error_min  mass_error_max  \\\n",
              "0  109 Psc b     Confirmed   6.8370         0.53200         0.53200   \n",
              "1   11 Com b     Confirmed  16.1284         1.53491         1.53491   \n",
              "2   11 UMi b     Confirmed  11.0873         1.10000         1.10000   \n",
              "3   14 And b     Confirmed   4.6840         0.23000         0.23000   \n",
              "4   14 Her b     Confirmed      NaN             NaN             NaN   \n",
              "\n",
              "   mass_sini  mass_sini_error_min  mass_sini_error_max  radius  \\\n",
              "0     6.3830              0.07800              0.07800   1.152   \n",
              "1    16.1284              1.53491              1.53491     NaN   \n",
              "2    11.0873              1.10000              1.10000     NaN   \n",
              "3     4.6840              0.23000              0.23000     NaN   \n",
              "4        NaN              4.95000              4.95000     NaN   \n",
              "\n",
              "   radius_error_min  ...  star_sp_type  star_age  star_age_error_min  \\\n",
              "0               NaN  ...         G5 IV      6.90                0.60   \n",
              "1               NaN  ...        G8 III       NaN                 NaN   \n",
              "2               NaN  ...         K4III      1.56                0.54   \n",
              "3               NaN  ...         K0III       NaN                 NaN   \n",
              "4               NaN  ...          K0 V      5.10                 NaN   \n",
              "\n",
              "   star_age_error_max  star_teff  star_teff_error_min  star_teff_error_max  \\\n",
              "0                0.60     5600.0                 80.0                 80.0   \n",
              "1                 NaN     4742.0                100.0                100.0   \n",
              "2                0.54     4340.0                 70.0                 70.0   \n",
              "3                 NaN     4813.0                 20.0                 20.0   \n",
              "4                 NaN     5311.0                 87.0                 87.0   \n",
              "\n",
              "   star_detected_disc  star_magnetic_field  star_alternate_names  \n",
              "0                 NaN                  NaN              HD 10697  \n",
              "1                 NaN                  NaN                   NaN  \n",
              "2                 NaN                  NaN                   NaN  \n",
              "3                 NaN                  NaN                   NaN  \n",
              "4                 NaN                  NaN                   NaN  \n",
              "\n",
              "[5 rows x 98 columns]"
            ],
            "text/html": [
              "\n",
              "  <div id=\"df-c01187f0-cceb-4e72-a7f3-50ee297f6931\" class=\"colab-df-container\">\n",
              "    <div>\n",
              "<style scoped>\n",
              "    .dataframe tbody tr th:only-of-type {\n",
              "        vertical-align: middle;\n",
              "    }\n",
              "\n",
              "    .dataframe tbody tr th {\n",
              "        vertical-align: top;\n",
              "    }\n",
              "\n",
              "    .dataframe thead th {\n",
              "        text-align: right;\n",
              "    }\n",
              "</style>\n",
              "<table border=\"1\" class=\"dataframe\">\n",
              "  <thead>\n",
              "    <tr style=\"text-align: right;\">\n",
              "      <th></th>\n",
              "      <th>name</th>\n",
              "      <th>planet_status</th>\n",
              "      <th>mass</th>\n",
              "      <th>mass_error_min</th>\n",
              "      <th>mass_error_max</th>\n",
              "      <th>mass_sini</th>\n",
              "      <th>mass_sini_error_min</th>\n",
              "      <th>mass_sini_error_max</th>\n",
              "      <th>radius</th>\n",
              "      <th>radius_error_min</th>\n",
              "      <th>...</th>\n",
              "      <th>star_sp_type</th>\n",
              "      <th>star_age</th>\n",
              "      <th>star_age_error_min</th>\n",
              "      <th>star_age_error_max</th>\n",
              "      <th>star_teff</th>\n",
              "      <th>star_teff_error_min</th>\n",
              "      <th>star_teff_error_max</th>\n",
              "      <th>star_detected_disc</th>\n",
              "      <th>star_magnetic_field</th>\n",
              "      <th>star_alternate_names</th>\n",
              "    </tr>\n",
              "  </thead>\n",
              "  <tbody>\n",
              "    <tr>\n",
              "      <th>0</th>\n",
              "      <td>109 Psc b</td>\n",
              "      <td>Confirmed</td>\n",
              "      <td>6.8370</td>\n",
              "      <td>0.53200</td>\n",
              "      <td>0.53200</td>\n",
              "      <td>6.3830</td>\n",
              "      <td>0.07800</td>\n",
              "      <td>0.07800</td>\n",
              "      <td>1.152</td>\n",
              "      <td>NaN</td>\n",
              "      <td>...</td>\n",
              "      <td>G5 IV</td>\n",
              "      <td>6.90</td>\n",
              "      <td>0.60</td>\n",
              "      <td>0.60</td>\n",
              "      <td>5600.0</td>\n",
              "      <td>80.0</td>\n",
              "      <td>80.0</td>\n",
              "      <td>NaN</td>\n",
              "      <td>NaN</td>\n",
              "      <td>HD 10697</td>\n",
              "    </tr>\n",
              "    <tr>\n",
              "      <th>1</th>\n",
              "      <td>11 Com b</td>\n",
              "      <td>Confirmed</td>\n",
              "      <td>16.1284</td>\n",
              "      <td>1.53491</td>\n",
              "      <td>1.53491</td>\n",
              "      <td>16.1284</td>\n",
              "      <td>1.53491</td>\n",
              "      <td>1.53491</td>\n",
              "      <td>NaN</td>\n",
              "      <td>NaN</td>\n",
              "      <td>...</td>\n",
              "      <td>G8 III</td>\n",
              "      <td>NaN</td>\n",
              "      <td>NaN</td>\n",
              "      <td>NaN</td>\n",
              "      <td>4742.0</td>\n",
              "      <td>100.0</td>\n",
              "      <td>100.0</td>\n",
              "      <td>NaN</td>\n",
              "      <td>NaN</td>\n",
              "      <td>NaN</td>\n",
              "    </tr>\n",
              "    <tr>\n",
              "      <th>2</th>\n",
              "      <td>11 UMi b</td>\n",
              "      <td>Confirmed</td>\n",
              "      <td>11.0873</td>\n",
              "      <td>1.10000</td>\n",
              "      <td>1.10000</td>\n",
              "      <td>11.0873</td>\n",
              "      <td>1.10000</td>\n",
              "      <td>1.10000</td>\n",
              "      <td>NaN</td>\n",
              "      <td>NaN</td>\n",
              "      <td>...</td>\n",
              "      <td>K4III</td>\n",
              "      <td>1.56</td>\n",
              "      <td>0.54</td>\n",
              "      <td>0.54</td>\n",
              "      <td>4340.0</td>\n",
              "      <td>70.0</td>\n",
              "      <td>70.0</td>\n",
              "      <td>NaN</td>\n",
              "      <td>NaN</td>\n",
              "      <td>NaN</td>\n",
              "    </tr>\n",
              "    <tr>\n",
              "      <th>3</th>\n",
              "      <td>14 And b</td>\n",
              "      <td>Confirmed</td>\n",
              "      <td>4.6840</td>\n",
              "      <td>0.23000</td>\n",
              "      <td>0.23000</td>\n",
              "      <td>4.6840</td>\n",
              "      <td>0.23000</td>\n",
              "      <td>0.23000</td>\n",
              "      <td>NaN</td>\n",
              "      <td>NaN</td>\n",
              "      <td>...</td>\n",
              "      <td>K0III</td>\n",
              "      <td>NaN</td>\n",
              "      <td>NaN</td>\n",
              "      <td>NaN</td>\n",
              "      <td>4813.0</td>\n",
              "      <td>20.0</td>\n",
              "      <td>20.0</td>\n",
              "      <td>NaN</td>\n",
              "      <td>NaN</td>\n",
              "      <td>NaN</td>\n",
              "    </tr>\n",
              "    <tr>\n",
              "      <th>4</th>\n",
              "      <td>14 Her b</td>\n",
              "      <td>Confirmed</td>\n",
              "      <td>NaN</td>\n",
              "      <td>NaN</td>\n",
              "      <td>NaN</td>\n",
              "      <td>NaN</td>\n",
              "      <td>4.95000</td>\n",
              "      <td>4.95000</td>\n",
              "      <td>NaN</td>\n",
              "      <td>NaN</td>\n",
              "      <td>...</td>\n",
              "      <td>K0 V</td>\n",
              "      <td>5.10</td>\n",
              "      <td>NaN</td>\n",
              "      <td>NaN</td>\n",
              "      <td>5311.0</td>\n",
              "      <td>87.0</td>\n",
              "      <td>87.0</td>\n",
              "      <td>NaN</td>\n",
              "      <td>NaN</td>\n",
              "      <td>NaN</td>\n",
              "    </tr>\n",
              "  </tbody>\n",
              "</table>\n",
              "<p>5 rows × 98 columns</p>\n",
              "</div>\n",
              "    <div class=\"colab-df-buttons\">\n",
              "\n",
              "  <div class=\"colab-df-container\">\n",
              "    <button class=\"colab-df-convert\" onclick=\"convertToInteractive('df-c01187f0-cceb-4e72-a7f3-50ee297f6931')\"\n",
              "            title=\"Convert this dataframe to an interactive table.\"\n",
              "            style=\"display:none;\">\n",
              "\n",
              "  <svg xmlns=\"http://www.w3.org/2000/svg\" height=\"24px\" viewBox=\"0 -960 960 960\">\n",
              "    <path d=\"M120-120v-720h720v720H120Zm60-500h600v-160H180v160Zm220 220h160v-160H400v160Zm0 220h160v-160H400v160ZM180-400h160v-160H180v160Zm440 0h160v-160H620v160ZM180-180h160v-160H180v160Zm440 0h160v-160H620v160Z\"/>\n",
              "  </svg>\n",
              "    </button>\n",
              "\n",
              "  <style>\n",
              "    .colab-df-container {\n",
              "      display:flex;\n",
              "      gap: 12px;\n",
              "    }\n",
              "\n",
              "    .colab-df-convert {\n",
              "      background-color: #E8F0FE;\n",
              "      border: none;\n",
              "      border-radius: 50%;\n",
              "      cursor: pointer;\n",
              "      display: none;\n",
              "      fill: #1967D2;\n",
              "      height: 32px;\n",
              "      padding: 0 0 0 0;\n",
              "      width: 32px;\n",
              "    }\n",
              "\n",
              "    .colab-df-convert:hover {\n",
              "      background-color: #E2EBFA;\n",
              "      box-shadow: 0px 1px 2px rgba(60, 64, 67, 0.3), 0px 1px 3px 1px rgba(60, 64, 67, 0.15);\n",
              "      fill: #174EA6;\n",
              "    }\n",
              "\n",
              "    .colab-df-buttons div {\n",
              "      margin-bottom: 4px;\n",
              "    }\n",
              "\n",
              "    [theme=dark] .colab-df-convert {\n",
              "      background-color: #3B4455;\n",
              "      fill: #D2E3FC;\n",
              "    }\n",
              "\n",
              "    [theme=dark] .colab-df-convert:hover {\n",
              "      background-color: #434B5C;\n",
              "      box-shadow: 0px 1px 3px 1px rgba(0, 0, 0, 0.15);\n",
              "      filter: drop-shadow(0px 1px 2px rgba(0, 0, 0, 0.3));\n",
              "      fill: #FFFFFF;\n",
              "    }\n",
              "  </style>\n",
              "\n",
              "    <script>\n",
              "      const buttonEl =\n",
              "        document.querySelector('#df-c01187f0-cceb-4e72-a7f3-50ee297f6931 button.colab-df-convert');\n",
              "      buttonEl.style.display =\n",
              "        google.colab.kernel.accessAllowed ? 'block' : 'none';\n",
              "\n",
              "      async function convertToInteractive(key) {\n",
              "        const element = document.querySelector('#df-c01187f0-cceb-4e72-a7f3-50ee297f6931');\n",
              "        const dataTable =\n",
              "          await google.colab.kernel.invokeFunction('convertToInteractive',\n",
              "                                                    [key], {});\n",
              "        if (!dataTable) return;\n",
              "\n",
              "        const docLinkHtml = 'Like what you see? Visit the ' +\n",
              "          '<a target=\"_blank\" href=https://colab.research.google.com/notebooks/data_table.ipynb>data table notebook</a>'\n",
              "          + ' to learn more about interactive tables.';\n",
              "        element.innerHTML = '';\n",
              "        dataTable['output_type'] = 'display_data';\n",
              "        await google.colab.output.renderOutput(dataTable, element);\n",
              "        const docLink = document.createElement('div');\n",
              "        docLink.innerHTML = docLinkHtml;\n",
              "        element.appendChild(docLink);\n",
              "      }\n",
              "    </script>\n",
              "  </div>\n",
              "\n",
              "\n",
              "<div id=\"df-3fb663b7-a25d-49c4-90f2-cd18a2550e53\">\n",
              "  <button class=\"colab-df-quickchart\" onclick=\"quickchart('df-3fb663b7-a25d-49c4-90f2-cd18a2550e53')\"\n",
              "            title=\"Suggest charts\"\n",
              "            style=\"display:none;\">\n",
              "\n",
              "<svg xmlns=\"http://www.w3.org/2000/svg\" height=\"24px\"viewBox=\"0 0 24 24\"\n",
              "     width=\"24px\">\n",
              "    <g>\n",
              "        <path d=\"M19 3H5c-1.1 0-2 .9-2 2v14c0 1.1.9 2 2 2h14c1.1 0 2-.9 2-2V5c0-1.1-.9-2-2-2zM9 17H7v-7h2v7zm4 0h-2V7h2v10zm4 0h-2v-4h2v4z\"/>\n",
              "    </g>\n",
              "</svg>\n",
              "  </button>\n",
              "\n",
              "<style>\n",
              "  .colab-df-quickchart {\n",
              "      --bg-color: #E8F0FE;\n",
              "      --fill-color: #1967D2;\n",
              "      --hover-bg-color: #E2EBFA;\n",
              "      --hover-fill-color: #174EA6;\n",
              "      --disabled-fill-color: #AAA;\n",
              "      --disabled-bg-color: #DDD;\n",
              "  }\n",
              "\n",
              "  [theme=dark] .colab-df-quickchart {\n",
              "      --bg-color: #3B4455;\n",
              "      --fill-color: #D2E3FC;\n",
              "      --hover-bg-color: #434B5C;\n",
              "      --hover-fill-color: #FFFFFF;\n",
              "      --disabled-bg-color: #3B4455;\n",
              "      --disabled-fill-color: #666;\n",
              "  }\n",
              "\n",
              "  .colab-df-quickchart {\n",
              "    background-color: var(--bg-color);\n",
              "    border: none;\n",
              "    border-radius: 50%;\n",
              "    cursor: pointer;\n",
              "    display: none;\n",
              "    fill: var(--fill-color);\n",
              "    height: 32px;\n",
              "    padding: 0;\n",
              "    width: 32px;\n",
              "  }\n",
              "\n",
              "  .colab-df-quickchart:hover {\n",
              "    background-color: var(--hover-bg-color);\n",
              "    box-shadow: 0 1px 2px rgba(60, 64, 67, 0.3), 0 1px 3px 1px rgba(60, 64, 67, 0.15);\n",
              "    fill: var(--button-hover-fill-color);\n",
              "  }\n",
              "\n",
              "  .colab-df-quickchart-complete:disabled,\n",
              "  .colab-df-quickchart-complete:disabled:hover {\n",
              "    background-color: var(--disabled-bg-color);\n",
              "    fill: var(--disabled-fill-color);\n",
              "    box-shadow: none;\n",
              "  }\n",
              "\n",
              "  .colab-df-spinner {\n",
              "    border: 2px solid var(--fill-color);\n",
              "    border-color: transparent;\n",
              "    border-bottom-color: var(--fill-color);\n",
              "    animation:\n",
              "      spin 1s steps(1) infinite;\n",
              "  }\n",
              "\n",
              "  @keyframes spin {\n",
              "    0% {\n",
              "      border-color: transparent;\n",
              "      border-bottom-color: var(--fill-color);\n",
              "      border-left-color: var(--fill-color);\n",
              "    }\n",
              "    20% {\n",
              "      border-color: transparent;\n",
              "      border-left-color: var(--fill-color);\n",
              "      border-top-color: var(--fill-color);\n",
              "    }\n",
              "    30% {\n",
              "      border-color: transparent;\n",
              "      border-left-color: var(--fill-color);\n",
              "      border-top-color: var(--fill-color);\n",
              "      border-right-color: var(--fill-color);\n",
              "    }\n",
              "    40% {\n",
              "      border-color: transparent;\n",
              "      border-right-color: var(--fill-color);\n",
              "      border-top-color: var(--fill-color);\n",
              "    }\n",
              "    60% {\n",
              "      border-color: transparent;\n",
              "      border-right-color: var(--fill-color);\n",
              "    }\n",
              "    80% {\n",
              "      border-color: transparent;\n",
              "      border-right-color: var(--fill-color);\n",
              "      border-bottom-color: var(--fill-color);\n",
              "    }\n",
              "    90% {\n",
              "      border-color: transparent;\n",
              "      border-bottom-color: var(--fill-color);\n",
              "    }\n",
              "  }\n",
              "</style>\n",
              "\n",
              "  <script>\n",
              "    async function quickchart(key) {\n",
              "      const quickchartButtonEl =\n",
              "        document.querySelector('#' + key + ' button');\n",
              "      quickchartButtonEl.disabled = true;  // To prevent multiple clicks.\n",
              "      quickchartButtonEl.classList.add('colab-df-spinner');\n",
              "      try {\n",
              "        const charts = await google.colab.kernel.invokeFunction(\n",
              "            'suggestCharts', [key], {});\n",
              "      } catch (error) {\n",
              "        console.error('Error during call to suggestCharts:', error);\n",
              "      }\n",
              "      quickchartButtonEl.classList.remove('colab-df-spinner');\n",
              "      quickchartButtonEl.classList.add('colab-df-quickchart-complete');\n",
              "    }\n",
              "    (() => {\n",
              "      let quickchartButtonEl =\n",
              "        document.querySelector('#df-3fb663b7-a25d-49c4-90f2-cd18a2550e53 button');\n",
              "      quickchartButtonEl.style.display =\n",
              "        google.colab.kernel.accessAllowed ? 'block' : 'none';\n",
              "    })();\n",
              "  </script>\n",
              "</div>\n",
              "\n",
              "    </div>\n",
              "  </div>\n"
            ],
            "application/vnd.google.colaboratory.intrinsic+json": {
              "type": "dataframe",
              "variable_name": "df"
            }
          },
          "metadata": {},
          "execution_count": 89
        }
      ]
    },
    {
      "cell_type": "code",
      "source": [
        "df.shape"
      ],
      "metadata": {
        "colab": {
          "base_uri": "https://localhost:8080/"
        },
        "id": "rTY0A2bThkQb",
        "outputId": "2d08ad2a-8125-427f-e3b0-0ae9e5d7e33a"
      },
      "execution_count": null,
      "outputs": [
        {
          "output_type": "execute_result",
          "data": {
            "text/plain": [
              "(8544, 98)"
            ]
          },
          "metadata": {},
          "execution_count": 7
        }
      ]
    },
    {
      "cell_type": "markdown",
      "source": [
        "###Droping Columns"
      ],
      "metadata": {
        "id": "_L9As7AOVTwk"
      }
    },
    {
      "cell_type": "code",
      "source": [
        "#Drop unnecessary columns\n",
        "df = df.drop(columns=['dec','ra',\n",
        "                      'name',\n",
        "                      'star_sp_type',\n",
        "                      'mag_i',\n",
        "                      'mass_sini',\n",
        "                      'alternate_names',\n",
        "                      'mass_error_min',\n",
        "                      'mass_error_max',\n",
        "                      'mass_sini_error_min',\n",
        "                      'mass_sini_error_max',\n",
        "                      'radius_error_min',\n",
        "                      'radius_error_max',\n",
        "                      'orbital_period_error_min',\n",
        "                      'orbital_period_error_max',\n",
        "                      'semi_major_axis_error_min',\n",
        "                      'semi_major_axis_error_max',\n",
        "                      'eccentricity_error_min',\n",
        "                      'eccentricity_error_max',\n",
        "                      'inclination_error_min',\n",
        "                      'inclination_error_max',\n",
        "                      'molecules','discovered',\n",
        "                      'tzero_tr_sec',\n",
        "                      'tzero_tr_sec_error_min',\n",
        "                      'tzero_tr_sec_error_max',\n",
        "                      'lambda_angle',\n",
        "                      'lambda_angle_error_min',\n",
        "                      'lambda_angle_error_max',\n",
        "                      'tzero_vr',\n",
        "                      'tzero_vr_error_max',\n",
        "                      'tzero_vr_error_min',\n",
        "                      'temp_measured',\n",
        "                      'hot_point_lon',\n",
        "                      'geometric_albedo',\n",
        "                      'geometric_albedo_error_min',\n",
        "                      'geometric_albedo_error_max',\n",
        "                      'log_g',\n",
        "                      'star_magnetic_field',\n",
        "                      'star_name',\n",
        "                    'inclination',\n",
        "                    'tzero_tr',\n",
        "                    'mag_v',\n",
        "                    'mag_k',\n",
        "                    'mag_h',\n",
        "                    'mag_j',\n",
        "                    'omega',\n",
        "                    'k',\n",
        "                    'star_alternate_names',\n",
        "                    'updated',\n",
        "                    'angular_distance',\n",
        "                    'omega_error_min',\n",
        "                    'omega_error_max',\n",
        "                    'tperi_error_min',\n",
        "                    'tperi_error_max',\n",
        "                    'tperi',\n",
        "                    'tconj_error_min',\n",
        "                    'tconj_error_max',\n",
        "                    'tconj',\n",
        "                    'tzero_tr_error_min',\n",
        "                    'tzero_tr_error_max',\n",
        "                    'impact_parameter_error_min',\n",
        "                    'impact_parameter_error_max',\n",
        "                    'k_error_min',\n",
        "                    'k_error_max',\n",
        "                    'temp_calculated_error_min',\n",
        "                    'temp_calculated_error_max',\n",
        "                    'star_distance_error_min',\n",
        "                    'star_distance_error_max',\n",
        "                    'star_metallicity_error_min',\n",
        "                    'star_metallicity_error_max',\n",
        "                    'star_mass_error_min',\n",
        "                    'star_mass_error_max',\n",
        "                    'star_radius_error_min',\n",
        "                    'star_radius_error_max',\n",
        "                    'star_age_error_min',\n",
        "                    'star_age_error_max',\n",
        "                    'star_teff_error_min',\n",
        "                    'star_teff_error_max',\n",
        "                    'star_detected_disc'])"
      ],
      "metadata": {
        "id": "9RIDWkyo1Dp7"
      },
      "execution_count": null,
      "outputs": []
    },
    {
      "cell_type": "markdown",
      "source": [
        "###Rename Some Columns"
      ],
      "metadata": {
        "id": "-fRE_J2aV2-O"
      }
    },
    {
      "cell_type": "code",
      "source": [
        "#Rename columns to write down the units\n",
        "df=df.rename(columns={'mass':'mass_Mjup',\n",
        "                      'radius':'radius_Rjup',\n",
        "                      'orbital_period':'orbital_period_days',\n",
        "                      'semi_major_axis':'semi_major_axis_au',\n",
        "                      'temp_calculated':'tempK_calculated',\n",
        "                      'star_distance':'star_distance_pc',\n",
        "                      'star_mass':'star_mass_Msun',\n",
        "                      'star_radius':'star_radius_Rsun',\n",
        "                      'star_age':'star_age_Gy',\n",
        "                      'star_teff':'star_teffK'})"
      ],
      "metadata": {
        "id": "N_3jArQsHIGh"
      },
      "execution_count": null,
      "outputs": []
    },
    {
      "cell_type": "markdown",
      "source": [
        "###EDA Continued"
      ],
      "metadata": {
        "id": "87gZxOu3WFTS"
      }
    },
    {
      "cell_type": "code",
      "source": [
        "df = df[df.radius_Rjup > 0]"
      ],
      "metadata": {
        "id": "HrLXdyB-eWs5"
      },
      "execution_count": null,
      "outputs": []
    },
    {
      "cell_type": "code",
      "source": [
        "df.radius_detection_type = df.radius_detection_type.fillna('Other')"
      ],
      "metadata": {
        "id": "CiFynRi2Le-V"
      },
      "execution_count": null,
      "outputs": []
    },
    {
      "cell_type": "code",
      "source": [
        "df.radius_detection_type.value_counts()"
      ],
      "metadata": {
        "colab": {
          "base_uri": "https://localhost:8080/"
        },
        "id": "MrgtcqZVQQoC",
        "outputId": "c8062cef-3ceb-4c15-9e0a-e762aad46cd1"
      },
      "execution_count": null,
      "outputs": [
        {
          "output_type": "execute_result",
          "data": {
            "text/plain": [
              "radius_detection_type\n",
              "Other              4880\n",
              "Primary Transit    1416\n",
              "Theoretical          81\n",
              "Flux                 48\n",
              "Name: count, dtype: int64"
            ]
          },
          "metadata": {},
          "execution_count": 94
        }
      ]
    },
    {
      "cell_type": "code",
      "source": [
        "df.mass_detection_type=df.mass_detection_type.fillna('Other')"
      ],
      "metadata": {
        "id": "40XqR40CLt6w"
      },
      "execution_count": null,
      "outputs": []
    },
    {
      "cell_type": "code",
      "source": [
        "df.mass_detection_type.value_counts()"
      ],
      "metadata": {
        "colab": {
          "base_uri": "https://localhost:8080/"
        },
        "id": "FbOQ-ub-Q4XP",
        "outputId": "278249dd-2dbe-4230-e36c-cde824f87b36"
      },
      "execution_count": null,
      "outputs": [
        {
          "output_type": "execute_result",
          "data": {
            "text/plain": [
              "mass_detection_type\n",
              "Other              5190\n",
              "Radial Velocity     885\n",
              "Theoretical         176\n",
              "Spectrum            102\n",
              "TTV                  59\n",
              "Timing                8\n",
              "Astrometry            5\n",
              "Name: count, dtype: int64"
            ]
          },
          "metadata": {},
          "execution_count": 96
        }
      ]
    },
    {
      "cell_type": "code",
      "source": [
        "print(df.publication.unique())\n",
        "print(df.detection_type.unique())\n",
        "print(df.mass_detection_type.unique())\n",
        "print(df.radius_detection_type.unique())"
      ],
      "metadata": {
        "colab": {
          "base_uri": "https://localhost:8080/"
        },
        "id": "ju3jnQm4LjeL",
        "outputId": "e38f0e1f-4e13-439d-cda4-6515b8d36aab"
      },
      "execution_count": null,
      "outputs": [
        {
          "output_type": "stream",
          "name": "stdout",
          "text": [
            "['Published in a refereed paper' 'Submitted to a professional journal'\n",
            " 'Announced on a professional conference' 'Announced on a website']\n",
            "['Radial Velocity' 'Imaging' 'Primary Transit' 'Timing, Kinematic' 'Other'\n",
            " 'Timing' 'Microlensing' 'TTV' 'Radial Velocity, Primary Transit'\n",
            " 'Primary Transit, Radial Velocity' 'Other, Imaging, Kinematic']\n",
            "['Radial Velocity' 'Other' 'Spectrum' 'Theoretical' 'Timing' 'TTV'\n",
            " 'Astrometry']\n",
            "['Theoretical' 'Other' 'Primary Transit' 'Flux']\n"
          ]
        }
      ]
    },
    {
      "cell_type": "code",
      "source": [
        "df.eccentricity = df.eccentricity.fillna(0).astype(float)"
      ],
      "metadata": {
        "id": "UNH9XGJtNuPs"
      },
      "execution_count": null,
      "outputs": []
    },
    {
      "cell_type": "code",
      "source": [
        "if df.planet_status[df.planet_status=='Controversial'].all() == True:\n",
        "    df.planet_status[df.planet_status=='Controversial']=0.05\n",
        "if df.planet_status[df.planet_status=='Retracted'].all()==True:\n",
        "    df.planet_status[df.planet_status=='Retracted']=0.05\n",
        "if df.planet_status[df.planet_status=='Confirmed'].all()==True:\n",
        "    df.planet_status[df.planet_status=='Confirmed']= 0.95\n",
        "if df.planet_status[df.planet_status=='Candidate'].all()==True:\n",
        "    df.planet_status[df.planet_status=='Candidate']= 0.5"
      ],
      "metadata": {
        "colab": {
          "base_uri": "https://localhost:8080/"
        },
        "id": "8OyVK-JaYI81",
        "outputId": "7cda48d4-0afe-481b-aaf6-6223dddbb12f"
      },
      "execution_count": null,
      "outputs": [
        {
          "output_type": "stream",
          "name": "stderr",
          "text": [
            "<ipython-input-112-60180088586f>:2: SettingWithCopyWarning: \n",
            "A value is trying to be set on a copy of a slice from a DataFrame\n",
            "\n",
            "See the caveats in the documentation: https://pandas.pydata.org/pandas-docs/stable/user_guide/indexing.html#returning-a-view-versus-a-copy\n",
            "  df.planet_status[df.planet_status=='Controversial']=0.05\n",
            "<ipython-input-112-60180088586f>:4: SettingWithCopyWarning: \n",
            "A value is trying to be set on a copy of a slice from a DataFrame\n",
            "\n",
            "See the caveats in the documentation: https://pandas.pydata.org/pandas-docs/stable/user_guide/indexing.html#returning-a-view-versus-a-copy\n",
            "  df.planet_status[df.planet_status=='Retracted']=0.05\n",
            "<ipython-input-112-60180088586f>:6: SettingWithCopyWarning: \n",
            "A value is trying to be set on a copy of a slice from a DataFrame\n",
            "\n",
            "See the caveats in the documentation: https://pandas.pydata.org/pandas-docs/stable/user_guide/indexing.html#returning-a-view-versus-a-copy\n",
            "  df.planet_status[df.planet_status=='Confirmed']= 0.95\n",
            "<ipython-input-112-60180088586f>:8: SettingWithCopyWarning: \n",
            "A value is trying to be set on a copy of a slice from a DataFrame\n",
            "\n",
            "See the caveats in the documentation: https://pandas.pydata.org/pandas-docs/stable/user_guide/indexing.html#returning-a-view-versus-a-copy\n",
            "  df.planet_status[df.planet_status=='Candidate']= 0.5\n"
          ]
        }
      ]
    },
    {
      "cell_type": "code",
      "source": [
        "df = df.rename(columns={'planet_status':'prob'})"
      ],
      "metadata": {
        "id": "XI18tE97fZ4u"
      },
      "execution_count": null,
      "outputs": []
    },
    {
      "cell_type": "code",
      "source": [
        "df.prob = df.prob.astype(float)"
      ],
      "metadata": {
        "id": "u3HFcxJ83BY3"
      },
      "execution_count": null,
      "outputs": []
    },
    {
      "cell_type": "code",
      "source": [
        "df.info()"
      ],
      "metadata": {
        "colab": {
          "base_uri": "https://localhost:8080/"
        },
        "id": "pYYTiSV1gtXE",
        "outputId": "3bcdc25d-75e5-4910-9f1b-fe0d238743b3"
      },
      "execution_count": null,
      "outputs": [
        {
          "output_type": "stream",
          "name": "stdout",
          "text": [
            "<class 'pandas.core.frame.DataFrame'>\n",
            "Index: 6425 entries, 0 to 8540\n",
            "Data columns (total 18 columns):\n",
            " #   Column                 Non-Null Count  Dtype  \n",
            "---  ------                 --------------  -----  \n",
            " 0   prob                   6425 non-null   float64\n",
            " 1   mass_Mjup              1642 non-null   float64\n",
            " 2   radius_Rjup            6425 non-null   float64\n",
            " 3   orbital_period_days    6335 non-null   float64\n",
            " 4   semi_major_axis_au     4711 non-null   float64\n",
            " 5   eccentricity           6425 non-null   float64\n",
            " 6   impact_parameter       4203 non-null   float64\n",
            " 7   tempK_calculated       3465 non-null   float64\n",
            " 8   publication            6425 non-null   object \n",
            " 9   detection_type         6425 non-null   object \n",
            " 10  mass_detection_type    6425 non-null   object \n",
            " 11  radius_detection_type  6425 non-null   object \n",
            " 12  star_distance_pc       4002 non-null   float64\n",
            " 13  star_metallicity       5802 non-null   float64\n",
            " 14  star_mass_Msun         5971 non-null   float64\n",
            " 15  star_radius_Rsun       6219 non-null   float64\n",
            " 16  star_age_Gy            2342 non-null   float64\n",
            " 17  star_teffK             6186 non-null   float64\n",
            "dtypes: float64(14), object(4)\n",
            "memory usage: 953.7+ KB\n"
          ]
        }
      ]
    },
    {
      "cell_type": "code",
      "source": [
        "df.describe()"
      ],
      "metadata": {
        "colab": {
          "base_uri": "https://localhost:8080/",
          "height": 320
        },
        "id": "3JAs8ElhkwRD",
        "outputId": "8ed7ffac-02ca-49ca-a7d5-424eafd137ed"
      },
      "execution_count": null,
      "outputs": [
        {
          "output_type": "execute_result",
          "data": {
            "text/plain": [
              "              prob    mass_Mjup   radius_Rjup  orbital_period_days  \\\n",
              "count  6425.000000  1642.000000  6.425000e+03         6.335000e+03   \n",
              "mean      0.784638     3.565042  5.272742e+00         1.585222e+03   \n",
              "std       0.222563    11.666052  8.665801e+01         1.015576e+05   \n",
              "min       0.050000     0.000006  6.200000e-12         1.250000e-02   \n",
              "25%       0.500000     0.027377  1.330000e-01         3.992096e+00   \n",
              "50%       0.950000     0.377500  2.130000e-01         9.658690e+00   \n",
              "75%       0.950000     1.460750  6.210000e-01         2.724347e+01   \n",
              "max       0.950000   264.000000  4.332120e+03         8.035500e+06   \n",
              "\n",
              "       semi_major_axis_au  eccentricity  impact_parameter  tempK_calculated  \\\n",
              "count         4711.000000   6425.000000       4203.000000       3465.000000   \n",
              "mean             6.005460      0.023337          0.981077        940.894263   \n",
              "std            127.164748      0.096122          5.989382        628.497618   \n",
              "min              0.001187      0.000000         -0.629000         25.000000   \n",
              "25%              0.048000      0.000000          0.180000        530.000000   \n",
              "50%              0.085100      0.000000          0.390000        806.000000   \n",
              "75%              0.182050      0.000000          0.695300       1209.000000   \n",
              "max           6471.000000      3.155000         98.041400      14225.000000   \n",
              "\n",
              "       star_distance_pc  star_metallicity  star_mass_Msun  star_radius_Rsun  \\\n",
              "count       4002.000000       5802.000000     5971.000000       6219.000000   \n",
              "mean         608.266637          0.876926        0.961020          1.171417   \n",
              "std          710.972078         72.351860        0.285275          2.336925   \n",
              "min            1.998000         -2.020000        0.015400          0.000020   \n",
              "25%          203.841000         -0.191000        0.813000          0.790000   \n",
              "50%          492.000000         -0.040000        0.960000          0.952000   \n",
              "75%          859.732500          0.060000        1.084000          1.200000   \n",
              "max        15130.000000       5511.000000        3.366000        149.058000   \n",
              "\n",
              "       star_age_Gy     star_teffK  \n",
              "count  2342.000000    6186.000000  \n",
              "mean      4.206481    5576.750498  \n",
              "std       2.392698    2680.772642  \n",
              "min       0.001000     575.000000  \n",
              "25%       2.820000    5153.250000  \n",
              "50%       4.070000    5667.000000  \n",
              "75%       4.900000    6038.000000  \n",
              "max      15.000000  200000.000000  "
            ],
            "text/html": [
              "\n",
              "  <div id=\"df-d79201ce-4439-49e3-b8ac-648bc0608f6a\" class=\"colab-df-container\">\n",
              "    <div>\n",
              "<style scoped>\n",
              "    .dataframe tbody tr th:only-of-type {\n",
              "        vertical-align: middle;\n",
              "    }\n",
              "\n",
              "    .dataframe tbody tr th {\n",
              "        vertical-align: top;\n",
              "    }\n",
              "\n",
              "    .dataframe thead th {\n",
              "        text-align: right;\n",
              "    }\n",
              "</style>\n",
              "<table border=\"1\" class=\"dataframe\">\n",
              "  <thead>\n",
              "    <tr style=\"text-align: right;\">\n",
              "      <th></th>\n",
              "      <th>prob</th>\n",
              "      <th>mass_Mjup</th>\n",
              "      <th>radius_Rjup</th>\n",
              "      <th>orbital_period_days</th>\n",
              "      <th>semi_major_axis_au</th>\n",
              "      <th>eccentricity</th>\n",
              "      <th>impact_parameter</th>\n",
              "      <th>tempK_calculated</th>\n",
              "      <th>star_distance_pc</th>\n",
              "      <th>star_metallicity</th>\n",
              "      <th>star_mass_Msun</th>\n",
              "      <th>star_radius_Rsun</th>\n",
              "      <th>star_age_Gy</th>\n",
              "      <th>star_teffK</th>\n",
              "    </tr>\n",
              "  </thead>\n",
              "  <tbody>\n",
              "    <tr>\n",
              "      <th>count</th>\n",
              "      <td>6425.000000</td>\n",
              "      <td>1642.000000</td>\n",
              "      <td>6.425000e+03</td>\n",
              "      <td>6.335000e+03</td>\n",
              "      <td>4711.000000</td>\n",
              "      <td>6425.000000</td>\n",
              "      <td>4203.000000</td>\n",
              "      <td>3465.000000</td>\n",
              "      <td>4002.000000</td>\n",
              "      <td>5802.000000</td>\n",
              "      <td>5971.000000</td>\n",
              "      <td>6219.000000</td>\n",
              "      <td>2342.000000</td>\n",
              "      <td>6186.000000</td>\n",
              "    </tr>\n",
              "    <tr>\n",
              "      <th>mean</th>\n",
              "      <td>0.784638</td>\n",
              "      <td>3.565042</td>\n",
              "      <td>5.272742e+00</td>\n",
              "      <td>1.585222e+03</td>\n",
              "      <td>6.005460</td>\n",
              "      <td>0.023337</td>\n",
              "      <td>0.981077</td>\n",
              "      <td>940.894263</td>\n",
              "      <td>608.266637</td>\n",
              "      <td>0.876926</td>\n",
              "      <td>0.961020</td>\n",
              "      <td>1.171417</td>\n",
              "      <td>4.206481</td>\n",
              "      <td>5576.750498</td>\n",
              "    </tr>\n",
              "    <tr>\n",
              "      <th>std</th>\n",
              "      <td>0.222563</td>\n",
              "      <td>11.666052</td>\n",
              "      <td>8.665801e+01</td>\n",
              "      <td>1.015576e+05</td>\n",
              "      <td>127.164748</td>\n",
              "      <td>0.096122</td>\n",
              "      <td>5.989382</td>\n",
              "      <td>628.497618</td>\n",
              "      <td>710.972078</td>\n",
              "      <td>72.351860</td>\n",
              "      <td>0.285275</td>\n",
              "      <td>2.336925</td>\n",
              "      <td>2.392698</td>\n",
              "      <td>2680.772642</td>\n",
              "    </tr>\n",
              "    <tr>\n",
              "      <th>min</th>\n",
              "      <td>0.050000</td>\n",
              "      <td>0.000006</td>\n",
              "      <td>6.200000e-12</td>\n",
              "      <td>1.250000e-02</td>\n",
              "      <td>0.001187</td>\n",
              "      <td>0.000000</td>\n",
              "      <td>-0.629000</td>\n",
              "      <td>25.000000</td>\n",
              "      <td>1.998000</td>\n",
              "      <td>-2.020000</td>\n",
              "      <td>0.015400</td>\n",
              "      <td>0.000020</td>\n",
              "      <td>0.001000</td>\n",
              "      <td>575.000000</td>\n",
              "    </tr>\n",
              "    <tr>\n",
              "      <th>25%</th>\n",
              "      <td>0.500000</td>\n",
              "      <td>0.027377</td>\n",
              "      <td>1.330000e-01</td>\n",
              "      <td>3.992096e+00</td>\n",
              "      <td>0.048000</td>\n",
              "      <td>0.000000</td>\n",
              "      <td>0.180000</td>\n",
              "      <td>530.000000</td>\n",
              "      <td>203.841000</td>\n",
              "      <td>-0.191000</td>\n",
              "      <td>0.813000</td>\n",
              "      <td>0.790000</td>\n",
              "      <td>2.820000</td>\n",
              "      <td>5153.250000</td>\n",
              "    </tr>\n",
              "    <tr>\n",
              "      <th>50%</th>\n",
              "      <td>0.950000</td>\n",
              "      <td>0.377500</td>\n",
              "      <td>2.130000e-01</td>\n",
              "      <td>9.658690e+00</td>\n",
              "      <td>0.085100</td>\n",
              "      <td>0.000000</td>\n",
              "      <td>0.390000</td>\n",
              "      <td>806.000000</td>\n",
              "      <td>492.000000</td>\n",
              "      <td>-0.040000</td>\n",
              "      <td>0.960000</td>\n",
              "      <td>0.952000</td>\n",
              "      <td>4.070000</td>\n",
              "      <td>5667.000000</td>\n",
              "    </tr>\n",
              "    <tr>\n",
              "      <th>75%</th>\n",
              "      <td>0.950000</td>\n",
              "      <td>1.460750</td>\n",
              "      <td>6.210000e-01</td>\n",
              "      <td>2.724347e+01</td>\n",
              "      <td>0.182050</td>\n",
              "      <td>0.000000</td>\n",
              "      <td>0.695300</td>\n",
              "      <td>1209.000000</td>\n",
              "      <td>859.732500</td>\n",
              "      <td>0.060000</td>\n",
              "      <td>1.084000</td>\n",
              "      <td>1.200000</td>\n",
              "      <td>4.900000</td>\n",
              "      <td>6038.000000</td>\n",
              "    </tr>\n",
              "    <tr>\n",
              "      <th>max</th>\n",
              "      <td>0.950000</td>\n",
              "      <td>264.000000</td>\n",
              "      <td>4.332120e+03</td>\n",
              "      <td>8.035500e+06</td>\n",
              "      <td>6471.000000</td>\n",
              "      <td>3.155000</td>\n",
              "      <td>98.041400</td>\n",
              "      <td>14225.000000</td>\n",
              "      <td>15130.000000</td>\n",
              "      <td>5511.000000</td>\n",
              "      <td>3.366000</td>\n",
              "      <td>149.058000</td>\n",
              "      <td>15.000000</td>\n",
              "      <td>200000.000000</td>\n",
              "    </tr>\n",
              "  </tbody>\n",
              "</table>\n",
              "</div>\n",
              "    <div class=\"colab-df-buttons\">\n",
              "\n",
              "  <div class=\"colab-df-container\">\n",
              "    <button class=\"colab-df-convert\" onclick=\"convertToInteractive('df-d79201ce-4439-49e3-b8ac-648bc0608f6a')\"\n",
              "            title=\"Convert this dataframe to an interactive table.\"\n",
              "            style=\"display:none;\">\n",
              "\n",
              "  <svg xmlns=\"http://www.w3.org/2000/svg\" height=\"24px\" viewBox=\"0 -960 960 960\">\n",
              "    <path d=\"M120-120v-720h720v720H120Zm60-500h600v-160H180v160Zm220 220h160v-160H400v160Zm0 220h160v-160H400v160ZM180-400h160v-160H180v160Zm440 0h160v-160H620v160ZM180-180h160v-160H180v160Zm440 0h160v-160H620v160Z\"/>\n",
              "  </svg>\n",
              "    </button>\n",
              "\n",
              "  <style>\n",
              "    .colab-df-container {\n",
              "      display:flex;\n",
              "      gap: 12px;\n",
              "    }\n",
              "\n",
              "    .colab-df-convert {\n",
              "      background-color: #E8F0FE;\n",
              "      border: none;\n",
              "      border-radius: 50%;\n",
              "      cursor: pointer;\n",
              "      display: none;\n",
              "      fill: #1967D2;\n",
              "      height: 32px;\n",
              "      padding: 0 0 0 0;\n",
              "      width: 32px;\n",
              "    }\n",
              "\n",
              "    .colab-df-convert:hover {\n",
              "      background-color: #E2EBFA;\n",
              "      box-shadow: 0px 1px 2px rgba(60, 64, 67, 0.3), 0px 1px 3px 1px rgba(60, 64, 67, 0.15);\n",
              "      fill: #174EA6;\n",
              "    }\n",
              "\n",
              "    .colab-df-buttons div {\n",
              "      margin-bottom: 4px;\n",
              "    }\n",
              "\n",
              "    [theme=dark] .colab-df-convert {\n",
              "      background-color: #3B4455;\n",
              "      fill: #D2E3FC;\n",
              "    }\n",
              "\n",
              "    [theme=dark] .colab-df-convert:hover {\n",
              "      background-color: #434B5C;\n",
              "      box-shadow: 0px 1px 3px 1px rgba(0, 0, 0, 0.15);\n",
              "      filter: drop-shadow(0px 1px 2px rgba(0, 0, 0, 0.3));\n",
              "      fill: #FFFFFF;\n",
              "    }\n",
              "  </style>\n",
              "\n",
              "    <script>\n",
              "      const buttonEl =\n",
              "        document.querySelector('#df-d79201ce-4439-49e3-b8ac-648bc0608f6a button.colab-df-convert');\n",
              "      buttonEl.style.display =\n",
              "        google.colab.kernel.accessAllowed ? 'block' : 'none';\n",
              "\n",
              "      async function convertToInteractive(key) {\n",
              "        const element = document.querySelector('#df-d79201ce-4439-49e3-b8ac-648bc0608f6a');\n",
              "        const dataTable =\n",
              "          await google.colab.kernel.invokeFunction('convertToInteractive',\n",
              "                                                    [key], {});\n",
              "        if (!dataTable) return;\n",
              "\n",
              "        const docLinkHtml = 'Like what you see? Visit the ' +\n",
              "          '<a target=\"_blank\" href=https://colab.research.google.com/notebooks/data_table.ipynb>data table notebook</a>'\n",
              "          + ' to learn more about interactive tables.';\n",
              "        element.innerHTML = '';\n",
              "        dataTable['output_type'] = 'display_data';\n",
              "        await google.colab.output.renderOutput(dataTable, element);\n",
              "        const docLink = document.createElement('div');\n",
              "        docLink.innerHTML = docLinkHtml;\n",
              "        element.appendChild(docLink);\n",
              "      }\n",
              "    </script>\n",
              "  </div>\n",
              "\n",
              "\n",
              "<div id=\"df-a9b3400a-2d11-4724-a239-bca54be2f4d5\">\n",
              "  <button class=\"colab-df-quickchart\" onclick=\"quickchart('df-a9b3400a-2d11-4724-a239-bca54be2f4d5')\"\n",
              "            title=\"Suggest charts\"\n",
              "            style=\"display:none;\">\n",
              "\n",
              "<svg xmlns=\"http://www.w3.org/2000/svg\" height=\"24px\"viewBox=\"0 0 24 24\"\n",
              "     width=\"24px\">\n",
              "    <g>\n",
              "        <path d=\"M19 3H5c-1.1 0-2 .9-2 2v14c0 1.1.9 2 2 2h14c1.1 0 2-.9 2-2V5c0-1.1-.9-2-2-2zM9 17H7v-7h2v7zm4 0h-2V7h2v10zm4 0h-2v-4h2v4z\"/>\n",
              "    </g>\n",
              "</svg>\n",
              "  </button>\n",
              "\n",
              "<style>\n",
              "  .colab-df-quickchart {\n",
              "      --bg-color: #E8F0FE;\n",
              "      --fill-color: #1967D2;\n",
              "      --hover-bg-color: #E2EBFA;\n",
              "      --hover-fill-color: #174EA6;\n",
              "      --disabled-fill-color: #AAA;\n",
              "      --disabled-bg-color: #DDD;\n",
              "  }\n",
              "\n",
              "  [theme=dark] .colab-df-quickchart {\n",
              "      --bg-color: #3B4455;\n",
              "      --fill-color: #D2E3FC;\n",
              "      --hover-bg-color: #434B5C;\n",
              "      --hover-fill-color: #FFFFFF;\n",
              "      --disabled-bg-color: #3B4455;\n",
              "      --disabled-fill-color: #666;\n",
              "  }\n",
              "\n",
              "  .colab-df-quickchart {\n",
              "    background-color: var(--bg-color);\n",
              "    border: none;\n",
              "    border-radius: 50%;\n",
              "    cursor: pointer;\n",
              "    display: none;\n",
              "    fill: var(--fill-color);\n",
              "    height: 32px;\n",
              "    padding: 0;\n",
              "    width: 32px;\n",
              "  }\n",
              "\n",
              "  .colab-df-quickchart:hover {\n",
              "    background-color: var(--hover-bg-color);\n",
              "    box-shadow: 0 1px 2px rgba(60, 64, 67, 0.3), 0 1px 3px 1px rgba(60, 64, 67, 0.15);\n",
              "    fill: var(--button-hover-fill-color);\n",
              "  }\n",
              "\n",
              "  .colab-df-quickchart-complete:disabled,\n",
              "  .colab-df-quickchart-complete:disabled:hover {\n",
              "    background-color: var(--disabled-bg-color);\n",
              "    fill: var(--disabled-fill-color);\n",
              "    box-shadow: none;\n",
              "  }\n",
              "\n",
              "  .colab-df-spinner {\n",
              "    border: 2px solid var(--fill-color);\n",
              "    border-color: transparent;\n",
              "    border-bottom-color: var(--fill-color);\n",
              "    animation:\n",
              "      spin 1s steps(1) infinite;\n",
              "  }\n",
              "\n",
              "  @keyframes spin {\n",
              "    0% {\n",
              "      border-color: transparent;\n",
              "      border-bottom-color: var(--fill-color);\n",
              "      border-left-color: var(--fill-color);\n",
              "    }\n",
              "    20% {\n",
              "      border-color: transparent;\n",
              "      border-left-color: var(--fill-color);\n",
              "      border-top-color: var(--fill-color);\n",
              "    }\n",
              "    30% {\n",
              "      border-color: transparent;\n",
              "      border-left-color: var(--fill-color);\n",
              "      border-top-color: var(--fill-color);\n",
              "      border-right-color: var(--fill-color);\n",
              "    }\n",
              "    40% {\n",
              "      border-color: transparent;\n",
              "      border-right-color: var(--fill-color);\n",
              "      border-top-color: var(--fill-color);\n",
              "    }\n",
              "    60% {\n",
              "      border-color: transparent;\n",
              "      border-right-color: var(--fill-color);\n",
              "    }\n",
              "    80% {\n",
              "      border-color: transparent;\n",
              "      border-right-color: var(--fill-color);\n",
              "      border-bottom-color: var(--fill-color);\n",
              "    }\n",
              "    90% {\n",
              "      border-color: transparent;\n",
              "      border-bottom-color: var(--fill-color);\n",
              "    }\n",
              "  }\n",
              "</style>\n",
              "\n",
              "  <script>\n",
              "    async function quickchart(key) {\n",
              "      const quickchartButtonEl =\n",
              "        document.querySelector('#' + key + ' button');\n",
              "      quickchartButtonEl.disabled = true;  // To prevent multiple clicks.\n",
              "      quickchartButtonEl.classList.add('colab-df-spinner');\n",
              "      try {\n",
              "        const charts = await google.colab.kernel.invokeFunction(\n",
              "            'suggestCharts', [key], {});\n",
              "      } catch (error) {\n",
              "        console.error('Error during call to suggestCharts:', error);\n",
              "      }\n",
              "      quickchartButtonEl.classList.remove('colab-df-spinner');\n",
              "      quickchartButtonEl.classList.add('colab-df-quickchart-complete');\n",
              "    }\n",
              "    (() => {\n",
              "      let quickchartButtonEl =\n",
              "        document.querySelector('#df-a9b3400a-2d11-4724-a239-bca54be2f4d5 button');\n",
              "      quickchartButtonEl.style.display =\n",
              "        google.colab.kernel.accessAllowed ? 'block' : 'none';\n",
              "    })();\n",
              "  </script>\n",
              "</div>\n",
              "\n",
              "    </div>\n",
              "  </div>\n"
            ],
            "application/vnd.google.colaboratory.intrinsic+json": {
              "type": "dataframe",
              "summary": "{\n  \"name\": \"df\",\n  \"rows\": 8,\n  \"fields\": [\n    {\n      \"column\": \"prob\",\n      \"properties\": {\n        \"dtype\": \"number\",\n        \"std\": 2271.357964024337,\n        \"min\": 0.05,\n        \"max\": 6425.0,\n        \"num_unique_values\": 6,\n        \"samples\": [\n          6425.0,\n          0.7846381322957198,\n          0.95\n        ],\n        \"semantic_type\": \"\",\n        \"description\": \"\"\n      }\n    },\n    {\n      \"column\": \"mass_Mjup\",\n      \"properties\": {\n        \"dtype\": \"number\",\n        \"std\": 573.6753008280634,\n        \"min\": 6e-06,\n        \"max\": 1642.0,\n        \"num_unique_values\": 8,\n        \"samples\": [\n          3.565041759165049,\n          0.3775,\n          1642.0\n        ],\n        \"semantic_type\": \"\",\n        \"description\": \"\"\n      }\n    },\n    {\n      \"column\": \"radius_Rjup\",\n      \"properties\": {\n        \"dtype\": \"number\",\n        \"std\": 2545.0250039415555,\n        \"min\": 6.2e-12,\n        \"max\": 6425.0,\n        \"num_unique_values\": 8,\n        \"samples\": [\n          5.272741826681618,\n          0.213,\n          6425.0\n        ],\n        \"semantic_type\": \"\",\n        \"description\": \"\"\n      }\n    },\n    {\n      \"column\": \"orbital_period_days\",\n      \"properties\": {\n        \"dtype\": \"number\",\n        \"std\": 2835664.4637399716,\n        \"min\": 0.0125,\n        \"max\": 8035500.0,\n        \"num_unique_values\": 8,\n        \"samples\": [\n          1585.2221003374882,\n          9.65869,\n          6335.0\n        ],\n        \"semantic_type\": \"\",\n        \"description\": \"\"\n      }\n    },\n    {\n      \"column\": \"semi_major_axis_au\",\n      \"properties\": {\n        \"dtype\": \"number\",\n        \"std\": 2620.7561479953747,\n        \"min\": 0.001187,\n        \"max\": 6471.0,\n        \"num_unique_values\": 8,\n        \"samples\": [\n          6.005460257698578,\n          0.0851,\n          4711.0\n        ],\n        \"semantic_type\": \"\",\n        \"description\": \"\"\n      }\n    },\n    {\n      \"column\": \"eccentricity\",\n      \"properties\": {\n        \"dtype\": \"number\",\n        \"std\": 2271.415414556635,\n        \"min\": 0.0,\n        \"max\": 6425.0,\n        \"num_unique_values\": 5,\n        \"samples\": [\n          0.02333740233463035,\n          3.155,\n          0.09612183514243572\n        ],\n        \"semantic_type\": \"\",\n        \"description\": \"\"\n      }\n    },\n    {\n      \"column\": \"impact_parameter\",\n      \"properties\": {\n        \"dtype\": \"number\",\n        \"std\": 1481.0374209149945,\n        \"min\": -0.629,\n        \"max\": 4203.0,\n        \"num_unique_values\": 8,\n        \"samples\": [\n          0.9810771955745896,\n          0.39,\n          4203.0\n        ],\n        \"semantic_type\": \"\",\n        \"description\": \"\"\n      }\n    },\n    {\n      \"column\": \"tempK_calculated\",\n      \"properties\": {\n        \"dtype\": \"number\",\n        \"std\": 4757.921057657247,\n        \"min\": 25.0,\n        \"max\": 14225.0,\n        \"num_unique_values\": 8,\n        \"samples\": [\n          940.8942626262626,\n          806.0,\n          3465.0\n        ],\n        \"semantic_type\": \"\",\n        \"description\": \"\"\n      }\n    },\n    {\n      \"column\": \"star_distance_pc\",\n      \"properties\": {\n        \"dtype\": \"number\",\n        \"std\": 5158.663542688177,\n        \"min\": 1.998,\n        \"max\": 15130.0,\n        \"num_unique_values\": 8,\n        \"samples\": [\n          608.2666372313844,\n          492.0,\n          4002.0\n        ],\n        \"semantic_type\": \"\",\n        \"description\": \"\"\n      }\n    },\n    {\n      \"column\": \"star_metallicity\",\n      \"properties\": {\n        \"dtype\": \"number\",\n        \"std\": 2614.2473689566937,\n        \"min\": -2.02,\n        \"max\": 5802.0,\n        \"num_unique_values\": 8,\n        \"samples\": [\n          0.8769264150293006,\n          -0.04,\n          5802.0\n        ],\n        \"semantic_type\": \"\",\n        \"description\": \"\"\n      }\n    },\n    {\n      \"column\": \"star_mass_Msun\",\n      \"properties\": {\n        \"dtype\": \"number\",\n        \"std\": 2110.689500948119,\n        \"min\": 0.0154,\n        \"max\": 5971.0,\n        \"num_unique_values\": 8,\n        \"samples\": [\n          0.9610200971361581,\n          0.96,\n          5971.0\n        ],\n        \"semantic_type\": \"\",\n        \"description\": \"\"\n      }\n    },\n    {\n      \"column\": \"star_radius_Rsun\",\n      \"properties\": {\n        \"dtype\": \"number\",\n        \"std\": 2191.506151528588,\n        \"min\": 2e-05,\n        \"max\": 6219.0,\n        \"num_unique_values\": 8,\n        \"samples\": [\n          1.1714167052580802,\n          0.952,\n          6219.0\n        ],\n        \"semantic_type\": \"\",\n        \"description\": \"\"\n      }\n    },\n    {\n      \"column\": \"star_age_Gy\",\n      \"properties\": {\n        \"dtype\": \"number\",\n        \"std\": 826.3474825777115,\n        \"min\": 0.001,\n        \"max\": 2342.0,\n        \"num_unique_values\": 8,\n        \"samples\": [\n          4.206481468830059,\n          4.07,\n          2342.0\n        ],\n        \"semantic_type\": \"\",\n        \"description\": \"\"\n      }\n    },\n    {\n      \"column\": \"star_teffK\",\n      \"properties\": {\n        \"dtype\": \"number\",\n        \"std\": 69128.40793707644,\n        \"min\": 575.0,\n        \"max\": 200000.0,\n        \"num_unique_values\": 8,\n        \"samples\": [\n          5576.75049789848,\n          5667.0,\n          6186.0\n        ],\n        \"semantic_type\": \"\",\n        \"description\": \"\"\n      }\n    }\n  ]\n}"
            }
          },
          "metadata": {},
          "execution_count": 121
        }
      ]
    },
    {
      "cell_type": "code",
      "source": [
        "bins=np.arange(0,5,0.3)\n",
        "ticks=np.arange(0,5,1)\n",
        "fig=plt.figure(figsize=(8,5))\n",
        "plt.hist(df.mass_Mjup, bins=bins)\n",
        "plt.xticks(ticks)\n",
        "plt.title('mass_hist')\n",
        "plt.xlabel('mass')\n",
        "plt.show()"
      ],
      "metadata": {
        "colab": {
          "base_uri": "https://localhost:8080/",
          "height": 205
        },
        "id": "M50TckxdcqMZ",
        "outputId": "c1e76f92-a1f1-4df8-e810-02e589306f24"
      },
      "execution_count": null,
      "outputs": [
        {
          "output_type": "display_data",
          "data": {
            "text/plain": [
              "<Figure size 800x500 with 1 Axes>"
            ],
            "image/png": "[encoded data removed]"
          },
          "metadata": {}
        }
      ]
    },
    {
      "cell_type": "code",
      "source": [
        "print('mean : ', df.mass_Mjup.mean())\n",
        "print('stdev : ', df.mass_Mjup.std())\n",
        "print('skewness : ',df.mass_Mjup.skew())"
      ],
      "metadata": {
        "colab": {
          "base_uri": "https://localhost:8080/"
        },
        "id": "LMO9aivrdL68",
        "outputId": "00bda367-b84a-443d-822b-1bf6df0ea0cb"
      },
      "execution_count": null,
      "outputs": [
        {
          "output_type": "stream",
          "name": "stdout",
          "text": [
            "mean :  3.565041759165049\n",
            "stdev :  11.666052170084086\n",
            "skewness :  9.24034764417516\n"
          ]
        }
      ]
    },
    {
      "cell_type": "code",
      "source": [
        "bins=np.arange(0,2.5,0.05)\n",
        "ticks=np.arange(0,2.5,0.5)\n",
        "fig=plt.figure(figsize=(8,5))\n",
        "plt.hist(df.radius_Rjup, bins=bins)\n",
        "plt.xticks(ticks)\n",
        "plt.title('radius_hist')\n",
        "plt.xlabel('radius')\n",
        "plt.show()"
      ],
      "metadata": {
        "colab": {
          "base_uri": "https://localhost:8080/",
          "height": 203
        },
        "id": "r0E-VMXdhN-g",
        "outputId": "8ce284ca-51a4-4952-d350-114ef77c5371"
      },
      "execution_count": null,
      "outputs": [
        {
          "output_type": "display_data",
          "data": {
            "text/plain": [
              "<Figure size 800x500 with 1 Axes>"
            ],
            "image/png": "[encoded data removed]"
          },
          "metadata": {}
        }
      ]
    },
    {
      "cell_type": "code",
      "source": [
        "print('mean : ', df.radius_Rjup.mean())\n",
        "print('stdev : ', df.radius_Rjup.std() )\n",
        "print('skewness : ', df.radius_Rjup.skew())"
      ],
      "metadata": {
        "colab": {
          "base_uri": "https://localhost:8080/"
        },
        "id": "lmugPvMpd5kn",
        "outputId": "67c5976a-d5ac-4a6b-89d0-6638fc0e8a07"
      },
      "execution_count": null,
      "outputs": [
        {
          "output_type": "stream",
          "name": "stdout",
          "text": [
            "mean :  5.272741826681618\n",
            "stdev :  86.6580135126384\n",
            "skewness :  31.329521984811095\n"
          ]
        }
      ]
    },
    {
      "cell_type": "code",
      "source": [
        "bins=np.arange(0,100,1)\n",
        "ticks=np.arange(0,100,10)\n",
        "fig=plt.figure(figsize=(8,5))\n",
        "plt.hist(df.orbital_period_days, bins=bins)\n",
        "plt.xticks(ticks)\n",
        "plt.title('orbital_period_hist')\n",
        "plt.xlabel('orbital_period(days)')\n",
        "plt.show()"
      ],
      "metadata": {
        "id": "D5H0dsCClENS",
        "colab": {
          "base_uri": "https://localhost:8080/",
          "height": 205
        },
        "outputId": "a885f24b-a1e0-4cb3-f7d0-0aaf10f8f0e3"
      },
      "execution_count": null,
      "outputs": [
        {
          "output_type": "display_data",
          "data": {
            "text/plain": [
              "<Figure size 800x500 with 1 Axes>"
            ],
            "image/png": "[encoded data removed]"
          },
          "metadata": {}
        }
      ]
    },
    {
      "cell_type": "code",
      "source": [
        "bins=np.arange(0,1,0.025)\n",
        "ticks=np.arange(0,1,0.1)\n",
        "fig=plt.figure(figsize=(8,5))\n",
        "plt.hist(df.eccentricity, bins=bins)\n",
        "plt.xticks(ticks)\n",
        "plt.title('eccentricity_hist')\n",
        "plt.xlabel('eccentricity')\n",
        "plt.show()"
      ],
      "metadata": {
        "colab": {
          "base_uri": "https://localhost:8080/",
          "height": 203
        },
        "id": "YmGzMS-BFfoL",
        "outputId": "079d843b-033d-4783-aabf-d967732d3ca8"
      },
      "execution_count": null,
      "outputs": [
        {
          "output_type": "display_data",
          "data": {
            "text/plain": [
              "<Figure size 800x500 with 1 Axes>"
            ],
            "image/png": "[encoded data removed]"
          },
          "metadata": {}
        }
      ]
    },
    {
      "cell_type": "code",
      "source": [
        "print('mean : ', df.eccentricity.mean())\n",
        "print('stdev : ', df.eccentricity.std() )\n",
        "print('skewness : ', df.eccentricity.skew())"
      ],
      "metadata": {
        "id": "iCkfECMwjVex",
        "colab": {
          "base_uri": "https://localhost:8080/"
        },
        "outputId": "db5d2a9f-10b9-4e1e-97bd-7a3b06aaf060"
      },
      "execution_count": null,
      "outputs": [
        {
          "output_type": "stream",
          "name": "stdout",
          "text": [
            "mean :  0.02333740233463035\n",
            "stdev :  0.09612183514243572\n",
            "skewness :  11.12450508996754\n"
          ]
        }
      ]
    },
    {
      "cell_type": "code",
      "source": [
        "bins=np.arange(0,16,0.5)\n",
        "ticks=np.arange(0,16,1)\n",
        "fig=plt.figure(figsize=(8,5))\n",
        "plt.hist(df.star_age_Gy, bins=bins)\n",
        "plt.xticks(ticks)\n",
        "plt.title('star_age_hist')\n",
        "plt.xlabel('Age(Gy)')\n",
        "plt.show()"
      ],
      "metadata": {
        "colab": {
          "base_uri": "https://localhost:8080/",
          "height": 205
        },
        "id": "q5iGS9g51Pk1",
        "outputId": "f6cd4898-acbc-41f0-d561-18bc6f3e5e18"
      },
      "execution_count": null,
      "outputs": [
        {
          "output_type": "display_data",
          "data": {
            "text/plain": [
              "<Figure size 800x500 with 1 Axes>"
            ],
            "image/png": "[encoded data removed]"
          },
          "metadata": {}
        }
      ]
    },
    {
      "cell_type": "code",
      "source": [
        "print('mean : ', df.star_age_Gy.mean())\n",
        "print('stdev : ', df.star_age_Gy.std() )\n",
        "print('skewness : ', df.star_age_Gy.skew())"
      ],
      "metadata": {
        "id": "vBlZqH2lRGbZ",
        "colab": {
          "base_uri": "https://localhost:8080/"
        },
        "outputId": "11ee6403-22a3-4d0d-8e31-74d89b7cb6b4"
      },
      "execution_count": null,
      "outputs": [
        {
          "output_type": "stream",
          "name": "stdout",
          "text": [
            "mean :  4.206481468830059\n",
            "stdev :  2.3926979385441696\n",
            "skewness :  1.0169347355759721\n"
          ]
        }
      ]
    },
    {
      "cell_type": "markdown",
      "source": [
        "# Train-Test Split"
      ],
      "metadata": {
        "id": "RYUGzIq3jPpD"
      }
    },
    {
      "cell_type": "code",
      "source": [
        "df1 = df.iloc[:,12:18].drop('star_age_Gy',axis=1)\n",
        "df1['prob']= df.prob"
      ],
      "metadata": {
        "id": "UlX9PRWkkF73"
      },
      "execution_count": null,
      "outputs": []
    },
    {
      "cell_type": "code",
      "source": [
        "df1 =df1.dropna()"
      ],
      "metadata": {
        "id": "S6P3D-HMpoGg"
      },
      "execution_count": null,
      "outputs": []
    },
    {
      "cell_type": "code",
      "source": [
        "X = df1.drop('prob',axis=1)\n",
        "Y = df1.prob"
      ],
      "metadata": {
        "id": "BXSDUkiMpwfa"
      },
      "execution_count": null,
      "outputs": []
    },
    {
      "cell_type": "code",
      "source": [
        "#Scaling\n",
        "\n",
        "StdSc = StandardScaler()\n",
        "X = StdSc.fit_transform(X)"
      ],
      "metadata": {
        "id": "LYxrPZmKyH7U"
      },
      "execution_count": null,
      "outputs": []
    },
    {
      "cell_type": "code",
      "source": [
        "X_train, X_test, Y_train, Y_test = train_test_split(X,Y, random_state=42,test_size= 0.25)\n",
        "print('X_train size : ', X_train.size)\n",
        "print('X_test size : ', X_test.size)\n",
        "print('Y_train size : ', Y_train.size)\n",
        "print('Y_test size : ', Y_test.size)"
      ],
      "metadata": {
        "colab": {
          "base_uri": "https://localhost:8080/"
        },
        "id": "FB42PiAGjUGf",
        "outputId": "47d3165d-ec3f-435f-adff-277d408b00eb"
      },
      "execution_count": null,
      "outputs": [
        {
          "output_type": "stream",
          "name": "stdout",
          "text": [
            "X_train size :  12285\n",
            "X_test size :  4095\n",
            "Y_train size :  2457\n",
            "Y_test size :  819\n"
          ]
        }
      ]
    },
    {
      "cell_type": "markdown",
      "source": [
        "#Modelling"
      ],
      "metadata": {
        "id": "EfNVCwKAqsQv"
      }
    },
    {
      "cell_type": "markdown",
      "source": [
        "##Linear Regression"
      ],
      "metadata": {
        "id": "OxcIz3k_qvWF"
      }
    },
    {
      "cell_type": "code",
      "source": [
        "#model training\n",
        "modelLR = LinearRegression()\n",
        "modelLR.fit(X_train, Y_train)\n",
        "\n",
        "#model evaluation\n",
        "Y_predLR = modelLR.predict(X_test).flatten()\n",
        "\n",
        "print('r2:', r2_score(Y_test,Y_predLR))\n",
        "print('MAE:', mean_absolute_error(Y_test,Y_predLR))\n",
        "print('RMSE:', (mean_squared_error(Y_test,Y_predLR)**0.5))\n",
        "\n",
        "plt.scatter(Y_test, Y_predLR)\n",
        "plt.plot(np.arange(0,1), np.arange(0, 1), color = 'green')\n",
        "plt.ylim((0.8,1))\n",
        "plt.grid(True)"
      ],
      "metadata": {
        "colab": {
          "base_uri": "https://localhost:8080/",
          "height": 270
        },
        "id": "II2xoo8jqrUo",
        "outputId": "62ff3eec-02b2-4f67-e6d1-6ce27570910b"
      },
      "execution_count": null,
      "outputs": [
        {
          "output_type": "stream",
          "name": "stdout",
          "text": [
            "r2: -1107.7261313130746\n",
            "MAE: 0.1317733378751178\n",
            "RMSE: 3.110640174952921\n"
          ]
        },
        {
          "output_type": "display_data",
          "data": {
            "text/plain": [
              "<Figure size 640x480 with 1 Axes>"
            ],
            "image/png": "[encoded data removed]"
          },
          "metadata": {}
        }
      ]
    },
    {
      "cell_type": "markdown",
      "source": [
        "##Decision Tree"
      ],
      "metadata": {
        "id": "gWA5G8eJtRei"
      }
    },
    {
      "cell_type": "code",
      "source": [
        "modelDTR = DecisionTreeRegressor()\n",
        "modelDTR.fit(X_train, Y_train)\n",
        "Y_predDTR = modelDTR.predict(X_test).flatten()\n",
        "\n",
        "#model evaluation\n",
        "Y_predDTR = modelDTR.predict(X_test).flatten()\n",
        "\n",
        "print('r2:', r2_score(Y_test,Y_predDTR))\n",
        "print('MAE:', mean_absolute_error(Y_test,Y_predDTR))\n",
        "print('RMSE:', (mean_squared_error(Y_test,Y_predDTR)**0.5))\n",
        "\n",
        "plt.scatter(Y_test, Y_predDTR)\n",
        "plt.plot(np.arange(0,5), np.arange(0, 5), color = 'green')\n",
        "plt.grid(True)"
      ],
      "metadata": {
        "colab": {
          "base_uri": "https://localhost:8080/",
          "height": 274
        },
        "id": "KxhovnAItWK7",
        "outputId": "e70f120b-452f-4ef0-d0e6-c381b4e3477a"
      },
      "execution_count": null,
      "outputs": [
        {
          "output_type": "stream",
          "name": "stdout",
          "text": [
            "r2: -0.640065033900646\n",
            "MAE: 0.021978021978024138\n",
            "RMSE: 0.11963773156152188\n"
          ]
        },
        {
          "output_type": "display_data",
          "data": {
            "text/plain": [
              "<Figure size 640x480 with 1 Axes>"
            ],
            "image/png": "[encoded data removed]"
          },
          "metadata": {}
        }
      ]
    },
    {
      "cell_type": "markdown",
      "source": [
        "##Random Forest"
      ],
      "metadata": {
        "id": "rFIWdn3Uu7DJ"
      }
    },
    {
      "cell_type": "code",
      "source": [
        "modelRFR = RandomForestRegressor(n_estimators=100, random_state=42)\n",
        "modelRFR.fit(X_train, Y_train)\n",
        "\n",
        "#model evaluation\n",
        "Y_predRFR = modelRFR.predict(X_test).flatten()\n",
        "\n",
        "print('r2:', r2_score(Y_test,Y_predRFR))\n",
        "print('MAE:', mean_absolute_error(Y_test,Y_predRFR))\n",
        "print('RMSE:', (mean_squared_error(Y_test,Y_predRFR)**0.5))\n",
        "\n",
        "plt.scatter(Y_test, Y_predRFR)\n",
        "plt.plot(np.arange(0,2), np.arange(0, 2), color = 'green')\n",
        "#plt.ylim((0.8,1))\n",
        "plt.grid(True)"
      ],
      "metadata": {
        "colab": {
          "base_uri": "https://localhost:8080/",
          "height": 274
        },
        "id": "WlQlm6uju9f-",
        "outputId": "2abc9b19-0339-4186-b48f-c2143ea00f62"
      },
      "execution_count": null,
      "outputs": [
        {
          "output_type": "stream",
          "name": "stdout",
          "text": [
            "r2: -0.11727376585960592\n",
            "MAE: 0.022757034632035024\n",
            "RMSE: 0.09874552786265561\n"
          ]
        },
        {
          "output_type": "display_data",
          "data": {
            "text/plain": [
              "<Figure size 640x480 with 1 Axes>"
            ],
            "image/png": "[encoded data removed]"
          },
          "metadata": {}
        }
      ]
    },
    {
      "cell_type": "markdown",
      "source": [
        "##ANN"
      ],
      "metadata": {
        "id": "XExZOmoyvtnb"
      }
    },
    {
      "cell_type": "code",
      "source": [
        "#building ANN architecture\n",
        "\n",
        "network = models.Sequential()\n",
        "network.add(layers.Dense(40, activation='relu', input_shape=(5,)))\n",
        "network.add(layers.Dense(45, activation='leaky_relu'))\n",
        "network.add(layers.Dense(45, activation ='relu'))\n",
        "network.add(layers.Dense(40, activation= 'leaky_relu'))\n",
        "network.add(layers.Dense(35, activation= 'relu'))\n",
        "network.add(layers.Dense(30, activation= 'leaky_relu'))\n",
        "network.add(layers.Dense(20, activation= 'sigmoid'))\n",
        "network.add(layers.Dense(1))\n",
        "\n",
        "# compile\n",
        "network.compile(loss='mse', optimizer=optimizers.AdamW(), metrics=['mae'])"
      ],
      "metadata": {
        "id": "fMmozC9ZvwIG"
      },
      "execution_count": null,
      "outputs": []
    },
    {
      "cell_type": "code",
      "source": [
        "history = network.fit(X_train, Y_train, epochs=300, batch_size=200,  verbose=1, validation_split=0.2)"
      ],
      "metadata": {
        "colab": {
          "base_uri": "https://localhost:8080/"
        },
        "id": "p2pEvJtrwNmh",
        "outputId": "cb56283f-3a3d-48e0-f085-cdccd517067e"
      },
      "execution_count": null,
      "outputs": [
        {
          "output_type": "stream",
          "name": "stdout",
          "text": [
            "Epoch 1/300\n",
            "10/10 [==============================] - 1s 21ms/step - loss: 1.1339 - mae: 1.0592 - val_loss: 0.8597 - val_mae: 0.9229\n",
            "Epoch 2/300\n",
            "10/10 [==============================] - 0s 6ms/step - loss: 0.5941 - mae: 0.7463 - val_loss: 0.2822 - val_mae: 0.4920\n",
            "Epoch 3/300\n",
            "10/10 [==============================] - 0s 6ms/step - loss: 0.1700 - mae: 0.3522 - val_loss: 0.1470 - val_mae: 0.2981\n",
            "Epoch 4/300\n",
            "10/10 [==============================] - 0s 6ms/step - loss: 0.1266 - mae: 0.2685 - val_loss: 0.0823 - val_mae: 0.2279\n",
            "Epoch 5/300\n",
            "10/10 [==============================] - 0s 5ms/step - loss: 0.0679 - mae: 0.2114 - val_loss: 0.0570 - val_mae: 0.2041\n",
            "Epoch 6/300\n",
            "10/10 [==============================] - 0s 7ms/step - loss: 0.0477 - mae: 0.1789 - val_loss: 0.0325 - val_mae: 0.1455\n",
            "Epoch 7/300\n",
            "10/10 [==============================] - 0s 6ms/step - loss: 0.0309 - mae: 0.1297 - val_loss: 0.0211 - val_mae: 0.1109\n",
            "Epoch 8/300\n",
            "10/10 [==============================] - 0s 4ms/step - loss: 0.0219 - mae: 0.1049 - val_loss: 0.0142 - val_mae: 0.0914\n",
            "Epoch 9/300\n",
            "10/10 [==============================] - 0s 7ms/step - loss: 0.0162 - mae: 0.0866 - val_loss: 0.0097 - val_mae: 0.0703\n",
            "Epoch 10/300\n",
            "10/10 [==============================] - 0s 4ms/step - loss: 0.0126 - mae: 0.0680 - val_loss: 0.0072 - val_mae: 0.0549\n",
            "Epoch 11/300\n",
            "10/10 [==============================] - 0s 6ms/step - loss: 0.0105 - mae: 0.0563 - val_loss: 0.0059 - val_mae: 0.0456\n",
            "Epoch 12/300\n",
            "10/10 [==============================] - 0s 6ms/step - loss: 0.0093 - mae: 0.0456 - val_loss: 0.0051 - val_mae: 0.0360\n",
            "Epoch 13/300\n",
            "10/10 [==============================] - 0s 6ms/step - loss: 0.0085 - mae: 0.0413 - val_loss: 0.0048 - val_mae: 0.0338\n",
            "Epoch 14/300\n",
            "10/10 [==============================] - 0s 7ms/step - loss: 0.0081 - mae: 0.0350 - val_loss: 0.0045 - val_mae: 0.0283\n",
            "Epoch 15/300\n",
            "10/10 [==============================] - 0s 7ms/step - loss: 0.0079 - mae: 0.0344 - val_loss: 0.0044 - val_mae: 0.0269\n",
            "Epoch 16/300\n",
            "10/10 [==============================] - 0s 8ms/step - loss: 0.0077 - mae: 0.0303 - val_loss: 0.0043 - val_mae: 0.0249\n",
            "Epoch 17/300\n",
            "10/10 [==============================] - 0s 6ms/step - loss: 0.0076 - mae: 0.0294 - val_loss: 0.0043 - val_mae: 0.0249\n",
            "Epoch 18/300\n",
            "10/10 [==============================] - 0s 5ms/step - loss: 0.0075 - mae: 0.0273 - val_loss: 0.0043 - val_mae: 0.0247\n",
            "Epoch 19/300\n",
            "10/10 [==============================] - 0s 6ms/step - loss: 0.0075 - mae: 0.0284 - val_loss: 0.0042 - val_mae: 0.0223\n",
            "Epoch 20/300\n",
            "10/10 [==============================] - 0s 8ms/step - loss: 0.0075 - mae: 0.0261 - val_loss: 0.0044 - val_mae: 0.0277\n",
            "Epoch 21/300\n",
            "10/10 [==============================] - 0s 10ms/step - loss: 0.0075 - mae: 0.0262 - val_loss: 0.0042 - val_mae: 0.0216\n",
            "Epoch 22/300\n",
            "10/10 [==============================] - 0s 9ms/step - loss: 0.0074 - mae: 0.0255 - val_loss: 0.0042 - val_mae: 0.0220\n",
            "Epoch 23/300\n",
            "10/10 [==============================] - 0s 6ms/step - loss: 0.0074 - mae: 0.0238 - val_loss: 0.0043 - val_mae: 0.0250\n",
            "Epoch 24/300\n",
            "10/10 [==============================] - 0s 9ms/step - loss: 0.0074 - mae: 0.0279 - val_loss: 0.0042 - val_mae: 0.0190\n",
            "Epoch 25/300\n",
            "10/10 [==============================] - 0s 7ms/step - loss: 0.0074 - mae: 0.0234 - val_loss: 0.0042 - val_mae: 0.0231\n",
            "Epoch 26/300\n",
            "10/10 [==============================] - 0s 8ms/step - loss: 0.0074 - mae: 0.0257 - val_loss: 0.0042 - val_mae: 0.0183\n",
            "Epoch 27/300\n",
            "10/10 [==============================] - 0s 5ms/step - loss: 0.0074 - mae: 0.0229 - val_loss: 0.0044 - val_mae: 0.0282\n",
            "Epoch 28/300\n",
            "10/10 [==============================] - 0s 5ms/step - loss: 0.0074 - mae: 0.0264 - val_loss: 0.0042 - val_mae: 0.0179\n",
            "Epoch 29/300\n",
            "10/10 [==============================] - 0s 5ms/step - loss: 0.0074 - mae: 0.0235 - val_loss: 0.0042 - val_mae: 0.0217\n",
            "Epoch 30/300\n",
            "10/10 [==============================] - 0s 5ms/step - loss: 0.0074 - mae: 0.0224 - val_loss: 0.0042 - val_mae: 0.0204\n",
            "Epoch 31/300\n",
            "10/10 [==============================] - 0s 5ms/step - loss: 0.0074 - mae: 0.0222 - val_loss: 0.0042 - val_mae: 0.0194\n",
            "Epoch 32/300\n",
            "10/10 [==============================] - 0s 6ms/step - loss: 0.0074 - mae: 0.0274 - val_loss: 0.0041 - val_mae: 0.0180\n",
            "Epoch 33/300\n",
            "10/10 [==============================] - 0s 7ms/step - loss: 0.0074 - mae: 0.0226 - val_loss: 0.0042 - val_mae: 0.0198\n",
            "Epoch 34/300\n",
            "10/10 [==============================] - 0s 8ms/step - loss: 0.0073 - mae: 0.0215 - val_loss: 0.0042 - val_mae: 0.0194\n",
            "Epoch 35/300\n",
            "10/10 [==============================] - 0s 9ms/step - loss: 0.0073 - mae: 0.0228 - val_loss: 0.0042 - val_mae: 0.0202\n",
            "Epoch 36/300\n",
            "10/10 [==============================] - 0s 9ms/step - loss: 0.0073 - mae: 0.0226 - val_loss: 0.0042 - val_mae: 0.0185\n",
            "Epoch 37/300\n",
            "10/10 [==============================] - 0s 9ms/step - loss: 0.0073 - mae: 0.0220 - val_loss: 0.0042 - val_mae: 0.0215\n",
            "Epoch 38/300\n",
            "10/10 [==============================] - 0s 9ms/step - loss: 0.0073 - mae: 0.0233 - val_loss: 0.0042 - val_mae: 0.0180\n",
            "Epoch 39/300\n",
            "10/10 [==============================] - 0s 8ms/step - loss: 0.0073 - mae: 0.0211 - val_loss: 0.0042 - val_mae: 0.0218\n",
            "Epoch 40/300\n",
            "10/10 [==============================] - 0s 9ms/step - loss: 0.0073 - mae: 0.0250 - val_loss: 0.0042 - val_mae: 0.0167\n",
            "Epoch 41/300\n",
            "10/10 [==============================] - 0s 7ms/step - loss: 0.0074 - mae: 0.0219 - val_loss: 0.0042 - val_mae: 0.0207\n",
            "Epoch 42/300\n",
            "10/10 [==============================] - 0s 7ms/step - loss: 0.0073 - mae: 0.0219 - val_loss: 0.0042 - val_mae: 0.0207\n",
            "Epoch 43/300\n",
            "10/10 [==============================] - 0s 8ms/step - loss: 0.0073 - mae: 0.0240 - val_loss: 0.0042 - val_mae: 0.0181\n",
            "Epoch 44/300\n",
            "10/10 [==============================] - 0s 8ms/step - loss: 0.0073 - mae: 0.0213 - val_loss: 0.0042 - val_mae: 0.0219\n",
            "Epoch 45/300\n",
            "10/10 [==============================] - 0s 4ms/step - loss: 0.0073 - mae: 0.0229 - val_loss: 0.0042 - val_mae: 0.0184\n",
            "Epoch 46/300\n",
            "10/10 [==============================] - 0s 7ms/step - loss: 0.0073 - mae: 0.0209 - val_loss: 0.0042 - val_mae: 0.0198\n",
            "Epoch 47/300\n",
            "10/10 [==============================] - 0s 7ms/step - loss: 0.0073 - mae: 0.0225 - val_loss: 0.0042 - val_mae: 0.0183\n",
            "Epoch 48/300\n",
            "10/10 [==============================] - 0s 5ms/step - loss: 0.0073 - mae: 0.0233 - val_loss: 0.0042 - val_mae: 0.0169\n",
            "Epoch 49/300\n",
            "10/10 [==============================] - 0s 4ms/step - loss: 0.0073 - mae: 0.0223 - val_loss: 0.0042 - val_mae: 0.0224\n",
            "Epoch 50/300\n",
            "10/10 [==============================] - 0s 4ms/step - loss: 0.0073 - mae: 0.0210 - val_loss: 0.0042 - val_mae: 0.0205\n",
            "Epoch 51/300\n",
            "10/10 [==============================] - 0s 6ms/step - loss: 0.0073 - mae: 0.0237 - val_loss: 0.0042 - val_mae: 0.0181\n",
            "Epoch 52/300\n",
            "10/10 [==============================] - 0s 5ms/step - loss: 0.0073 - mae: 0.0232 - val_loss: 0.0042 - val_mae: 0.0184\n",
            "Epoch 53/300\n",
            "10/10 [==============================] - 0s 5ms/step - loss: 0.0073 - mae: 0.0219 - val_loss: 0.0043 - val_mae: 0.0259\n",
            "Epoch 54/300\n",
            "10/10 [==============================] - 0s 5ms/step - loss: 0.0073 - mae: 0.0248 - val_loss: 0.0042 - val_mae: 0.0170\n",
            "Epoch 55/300\n",
            "10/10 [==============================] - 0s 4ms/step - loss: 0.0073 - mae: 0.0247 - val_loss: 0.0042 - val_mae: 0.0189\n",
            "Epoch 56/300\n",
            "10/10 [==============================] - 0s 5ms/step - loss: 0.0073 - mae: 0.0195 - val_loss: 0.0043 - val_mae: 0.0258\n",
            "Epoch 57/300\n",
            "10/10 [==============================] - 0s 4ms/step - loss: 0.0073 - mae: 0.0256 - val_loss: 0.0042 - val_mae: 0.0173\n",
            "Epoch 58/300\n",
            "10/10 [==============================] - 0s 6ms/step - loss: 0.0073 - mae: 0.0240 - val_loss: 0.0042 - val_mae: 0.0170\n",
            "Epoch 59/300\n",
            "10/10 [==============================] - 0s 4ms/step - loss: 0.0073 - mae: 0.0226 - val_loss: 0.0043 - val_mae: 0.0209\n",
            "Epoch 60/300\n",
            "10/10 [==============================] - 0s 4ms/step - loss: 0.0072 - mae: 0.0215 - val_loss: 0.0043 - val_mae: 0.0201\n",
            "Epoch 61/300\n",
            "10/10 [==============================] - 0s 4ms/step - loss: 0.0072 - mae: 0.0223 - val_loss: 0.0043 - val_mae: 0.0214\n",
            "Epoch 62/300\n",
            "10/10 [==============================] - 0s 6ms/step - loss: 0.0072 - mae: 0.0217 - val_loss: 0.0043 - val_mae: 0.0201\n",
            "Epoch 63/300\n",
            "10/10 [==============================] - 0s 7ms/step - loss: 0.0072 - mae: 0.0224 - val_loss: 0.0043 - val_mae: 0.0194\n",
            "Epoch 64/300\n",
            "10/10 [==============================] - 0s 6ms/step - loss: 0.0072 - mae: 0.0217 - val_loss: 0.0043 - val_mae: 0.0218\n",
            "Epoch 65/300\n",
            "10/10 [==============================] - 0s 8ms/step - loss: 0.0072 - mae: 0.0219 - val_loss: 0.0044 - val_mae: 0.0259\n",
            "Epoch 66/300\n",
            "10/10 [==============================] - 0s 6ms/step - loss: 0.0073 - mae: 0.0230 - val_loss: 0.0043 - val_mae: 0.0218\n",
            "Epoch 67/300\n",
            "10/10 [==============================] - 0s 5ms/step - loss: 0.0072 - mae: 0.0237 - val_loss: 0.0043 - val_mae: 0.0226\n",
            "Epoch 68/300\n",
            "10/10 [==============================] - 0s 4ms/step - loss: 0.0073 - mae: 0.0225 - val_loss: 0.0046 - val_mae: 0.0320\n",
            "Epoch 69/300\n",
            "10/10 [==============================] - 0s 5ms/step - loss: 0.0073 - mae: 0.0241 - val_loss: 0.0043 - val_mae: 0.0195\n",
            "Epoch 70/300\n",
            "10/10 [==============================] - 0s 7ms/step - loss: 0.0073 - mae: 0.0245 - val_loss: 0.0043 - val_mae: 0.0175\n",
            "Epoch 71/300\n",
            "10/10 [==============================] - 0s 6ms/step - loss: 0.0073 - mae: 0.0246 - val_loss: 0.0043 - val_mae: 0.0173\n",
            "Epoch 72/300\n",
            "10/10 [==============================] - 0s 6ms/step - loss: 0.0072 - mae: 0.0213 - val_loss: 0.0044 - val_mae: 0.0245\n",
            "Epoch 73/300\n",
            "10/10 [==============================] - 0s 5ms/step - loss: 0.0072 - mae: 0.0228 - val_loss: 0.0044 - val_mae: 0.0223\n",
            "Epoch 74/300\n",
            "10/10 [==============================] - 0s 6ms/step - loss: 0.0072 - mae: 0.0231 - val_loss: 0.0044 - val_mae: 0.0228\n",
            "Epoch 75/300\n",
            "10/10 [==============================] - 0s 4ms/step - loss: 0.0072 - mae: 0.0221 - val_loss: 0.0045 - val_mae: 0.0295\n",
            "Epoch 76/300\n",
            "10/10 [==============================] - 0s 4ms/step - loss: 0.0072 - mae: 0.0240 - val_loss: 0.0043 - val_mae: 0.0179\n",
            "Epoch 77/300\n",
            "10/10 [==============================] - 0s 4ms/step - loss: 0.0073 - mae: 0.0266 - val_loss: 0.0044 - val_mae: 0.0184\n",
            "Epoch 78/300\n",
            "10/10 [==============================] - 0s 4ms/step - loss: 0.0074 - mae: 0.0252 - val_loss: 0.0043 - val_mae: 0.0186\n",
            "Epoch 79/300\n",
            "10/10 [==============================] - 0s 6ms/step - loss: 0.0072 - mae: 0.0217 - val_loss: 0.0045 - val_mae: 0.0292\n",
            "Epoch 80/300\n",
            "10/10 [==============================] - 0s 6ms/step - loss: 0.0072 - mae: 0.0234 - val_loss: 0.0043 - val_mae: 0.0219\n",
            "Epoch 81/300\n",
            "10/10 [==============================] - 0s 7ms/step - loss: 0.0072 - mae: 0.0254 - val_loss: 0.0043 - val_mae: 0.0177\n",
            "Epoch 82/300\n",
            "10/10 [==============================] - 0s 7ms/step - loss: 0.0072 - mae: 0.0223 - val_loss: 0.0044 - val_mae: 0.0244\n",
            "Epoch 83/300\n",
            "10/10 [==============================] - 0s 7ms/step - loss: 0.0072 - mae: 0.0222 - val_loss: 0.0044 - val_mae: 0.0226\n",
            "Epoch 84/300\n",
            "10/10 [==============================] - 0s 4ms/step - loss: 0.0072 - mae: 0.0247 - val_loss: 0.0043 - val_mae: 0.0176\n",
            "Epoch 85/300\n",
            "10/10 [==============================] - 0s 6ms/step - loss: 0.0072 - mae: 0.0240 - val_loss: 0.0044 - val_mae: 0.0222\n",
            "Epoch 86/300\n",
            "10/10 [==============================] - 0s 4ms/step - loss: 0.0072 - mae: 0.0216 - val_loss: 0.0046 - val_mae: 0.0279\n",
            "Epoch 87/300\n",
            "10/10 [==============================] - 0s 4ms/step - loss: 0.0072 - mae: 0.0244 - val_loss: 0.0044 - val_mae: 0.0185\n",
            "Epoch 88/300\n",
            "10/10 [==============================] - 0s 7ms/step - loss: 0.0072 - mae: 0.0238 - val_loss: 0.0044 - val_mae: 0.0244\n",
            "Epoch 89/300\n",
            "10/10 [==============================] - 0s 4ms/step - loss: 0.0072 - mae: 0.0222 - val_loss: 0.0044 - val_mae: 0.0222\n",
            "Epoch 90/300\n",
            "10/10 [==============================] - 0s 5ms/step - loss: 0.0071 - mae: 0.0226 - val_loss: 0.0043 - val_mae: 0.0194\n",
            "Epoch 91/300\n",
            "10/10 [==============================] - 0s 4ms/step - loss: 0.0071 - mae: 0.0225 - val_loss: 0.0044 - val_mae: 0.0225\n",
            "Epoch 92/300\n",
            "10/10 [==============================] - 0s 4ms/step - loss: 0.0072 - mae: 0.0249 - val_loss: 0.0044 - val_mae: 0.0180\n",
            "Epoch 93/300\n",
            "10/10 [==============================] - 0s 4ms/step - loss: 0.0072 - mae: 0.0245 - val_loss: 0.0044 - val_mae: 0.0207\n",
            "Epoch 94/300\n",
            "10/10 [==============================] - 0s 6ms/step - loss: 0.0072 - mae: 0.0229 - val_loss: 0.0044 - val_mae: 0.0211\n",
            "Epoch 95/300\n",
            "10/10 [==============================] - 0s 6ms/step - loss: 0.0071 - mae: 0.0222 - val_loss: 0.0044 - val_mae: 0.0185\n",
            "Epoch 96/300\n",
            "10/10 [==============================] - 0s 6ms/step - loss: 0.0072 - mae: 0.0237 - val_loss: 0.0044 - val_mae: 0.0181\n",
            "Epoch 97/300\n",
            "10/10 [==============================] - 0s 4ms/step - loss: 0.0072 - mae: 0.0235 - val_loss: 0.0044 - val_mae: 0.0188\n",
            "Epoch 98/300\n",
            "10/10 [==============================] - 0s 7ms/step - loss: 0.0072 - mae: 0.0243 - val_loss: 0.0044 - val_mae: 0.0193\n",
            "Epoch 99/300\n",
            "10/10 [==============================] - 0s 7ms/step - loss: 0.0072 - mae: 0.0231 - val_loss: 0.0045 - val_mae: 0.0241\n",
            "Epoch 100/300\n",
            "10/10 [==============================] - 0s 6ms/step - loss: 0.0071 - mae: 0.0218 - val_loss: 0.0044 - val_mae: 0.0207\n",
            "Epoch 101/300\n",
            "10/10 [==============================] - 0s 6ms/step - loss: 0.0071 - mae: 0.0219 - val_loss: 0.0047 - val_mae: 0.0313\n",
            "Epoch 102/300\n",
            "10/10 [==============================] - 0s 6ms/step - loss: 0.0072 - mae: 0.0245 - val_loss: 0.0044 - val_mae: 0.0223\n",
            "Epoch 103/300\n",
            "10/10 [==============================] - 0s 6ms/step - loss: 0.0072 - mae: 0.0255 - val_loss: 0.0044 - val_mae: 0.0183\n",
            "Epoch 104/300\n",
            "10/10 [==============================] - 0s 6ms/step - loss: 0.0072 - mae: 0.0240 - val_loss: 0.0044 - val_mae: 0.0184\n",
            "Epoch 105/300\n",
            "10/10 [==============================] - 0s 5ms/step - loss: 0.0072 - mae: 0.0241 - val_loss: 0.0044 - val_mae: 0.0197\n",
            "Epoch 106/300\n",
            "10/10 [==============================] - 0s 5ms/step - loss: 0.0071 - mae: 0.0253 - val_loss: 0.0044 - val_mae: 0.0185\n",
            "Epoch 107/300\n",
            "10/10 [==============================] - 0s 4ms/step - loss: 0.0072 - mae: 0.0238 - val_loss: 0.0044 - val_mae: 0.0217\n",
            "Epoch 108/300\n",
            "10/10 [==============================] - 0s 5ms/step - loss: 0.0072 - mae: 0.0242 - val_loss: 0.0044 - val_mae: 0.0196\n",
            "Epoch 109/300\n",
            "10/10 [==============================] - 0s 4ms/step - loss: 0.0071 - mae: 0.0229 - val_loss: 0.0045 - val_mae: 0.0218\n",
            "Epoch 110/300\n",
            "10/10 [==============================] - 0s 5ms/step - loss: 0.0071 - mae: 0.0225 - val_loss: 0.0046 - val_mae: 0.0272\n",
            "Epoch 111/300\n",
            "10/10 [==============================] - 0s 4ms/step - loss: 0.0071 - mae: 0.0239 - val_loss: 0.0044 - val_mae: 0.0197\n",
            "Epoch 112/300\n",
            "10/10 [==============================] - 0s 6ms/step - loss: 0.0071 - mae: 0.0230 - val_loss: 0.0044 - val_mae: 0.0198\n",
            "Epoch 113/300\n",
            "10/10 [==============================] - 0s 4ms/step - loss: 0.0072 - mae: 0.0246 - val_loss: 0.0045 - val_mae: 0.0186\n",
            "Epoch 114/300\n",
            "10/10 [==============================] - 0s 6ms/step - loss: 0.0071 - mae: 0.0232 - val_loss: 0.0045 - val_mae: 0.0237\n",
            "Epoch 115/300\n",
            "10/10 [==============================] - 0s 7ms/step - loss: 0.0071 - mae: 0.0246 - val_loss: 0.0045 - val_mae: 0.0206\n",
            "Epoch 116/300\n",
            "10/10 [==============================] - 0s 7ms/step - loss: 0.0071 - mae: 0.0252 - val_loss: 0.0045 - val_mae: 0.0188\n",
            "Epoch 117/300\n",
            "10/10 [==============================] - 0s 8ms/step - loss: 0.0071 - mae: 0.0249 - val_loss: 0.0045 - val_mae: 0.0223\n",
            "Epoch 118/300\n",
            "10/10 [==============================] - 0s 4ms/step - loss: 0.0071 - mae: 0.0219 - val_loss: 0.0045 - val_mae: 0.0232\n",
            "Epoch 119/300\n",
            "10/10 [==============================] - 0s 4ms/step - loss: 0.0071 - mae: 0.0235 - val_loss: 0.0045 - val_mae: 0.0226\n",
            "Epoch 120/300\n",
            "10/10 [==============================] - 0s 5ms/step - loss: 0.0071 - mae: 0.0225 - val_loss: 0.0046 - val_mae: 0.0264\n",
            "Epoch 121/300\n",
            "10/10 [==============================] - 0s 6ms/step - loss: 0.0071 - mae: 0.0236 - val_loss: 0.0047 - val_mae: 0.0284\n",
            "Epoch 122/300\n",
            "10/10 [==============================] - 0s 6ms/step - loss: 0.0072 - mae: 0.0254 - val_loss: 0.0048 - val_mae: 0.0302\n",
            "Epoch 123/300\n",
            "10/10 [==============================] - 0s 7ms/step - loss: 0.0071 - mae: 0.0262 - val_loss: 0.0044 - val_mae: 0.0205\n",
            "Epoch 124/300\n",
            "10/10 [==============================] - 0s 6ms/step - loss: 0.0071 - mae: 0.0236 - val_loss: 0.0049 - val_mae: 0.0341\n",
            "Epoch 125/300\n",
            "10/10 [==============================] - 0s 4ms/step - loss: 0.0071 - mae: 0.0257 - val_loss: 0.0046 - val_mae: 0.0231\n",
            "Epoch 126/300\n",
            "10/10 [==============================] - 0s 4ms/step - loss: 0.0071 - mae: 0.0250 - val_loss: 0.0045 - val_mae: 0.0213\n",
            "Epoch 127/300\n",
            "10/10 [==============================] - 0s 6ms/step - loss: 0.0071 - mae: 0.0244 - val_loss: 0.0045 - val_mae: 0.0206\n",
            "Epoch 128/300\n",
            "10/10 [==============================] - 0s 4ms/step - loss: 0.0071 - mae: 0.0244 - val_loss: 0.0046 - val_mae: 0.0204\n",
            "Epoch 129/300\n",
            "10/10 [==============================] - 0s 4ms/step - loss: 0.0071 - mae: 0.0247 - val_loss: 0.0046 - val_mae: 0.0199\n",
            "Epoch 130/300\n",
            "10/10 [==============================] - 0s 4ms/step - loss: 0.0071 - mae: 0.0251 - val_loss: 0.0045 - val_mae: 0.0198\n",
            "Epoch 131/300\n",
            "10/10 [==============================] - 0s 4ms/step - loss: 0.0070 - mae: 0.0234 - val_loss: 0.0047 - val_mae: 0.0283\n",
            "Epoch 132/300\n",
            "10/10 [==============================] - 0s 5ms/step - loss: 0.0071 - mae: 0.0241 - val_loss: 0.0046 - val_mae: 0.0232\n",
            "Epoch 133/300\n",
            "10/10 [==============================] - 0s 7ms/step - loss: 0.0070 - mae: 0.0235 - val_loss: 0.0046 - val_mae: 0.0229\n",
            "Epoch 134/300\n",
            "10/10 [==============================] - 0s 7ms/step - loss: 0.0071 - mae: 0.0249 - val_loss: 0.0046 - val_mae: 0.0215\n",
            "Epoch 135/300\n",
            "10/10 [==============================] - 0s 4ms/step - loss: 0.0070 - mae: 0.0223 - val_loss: 0.0046 - val_mae: 0.0223\n",
            "Epoch 136/300\n",
            "10/10 [==============================] - 0s 5ms/step - loss: 0.0071 - mae: 0.0255 - val_loss: 0.0045 - val_mae: 0.0203\n",
            "Epoch 137/300\n",
            "10/10 [==============================] - 0s 4ms/step - loss: 0.0071 - mae: 0.0265 - val_loss: 0.0046 - val_mae: 0.0201\n",
            "Epoch 138/300\n",
            "10/10 [==============================] - 0s 5ms/step - loss: 0.0071 - mae: 0.0256 - val_loss: 0.0046 - val_mae: 0.0202\n",
            "Epoch 139/300\n",
            "10/10 [==============================] - 0s 5ms/step - loss: 0.0071 - mae: 0.0258 - val_loss: 0.0046 - val_mae: 0.0211\n",
            "Epoch 140/300\n",
            "10/10 [==============================] - 0s 7ms/step - loss: 0.0072 - mae: 0.0279 - val_loss: 0.0046 - val_mae: 0.0237\n",
            "Epoch 141/300\n",
            "10/10 [==============================] - 0s 5ms/step - loss: 0.0072 - mae: 0.0265 - val_loss: 0.0050 - val_mae: 0.0329\n",
            "Epoch 142/300\n",
            "10/10 [==============================] - 0s 4ms/step - loss: 0.0070 - mae: 0.0235 - val_loss: 0.0048 - val_mae: 0.0305\n",
            "Epoch 143/300\n",
            "10/10 [==============================] - 0s 4ms/step - loss: 0.0071 - mae: 0.0246 - val_loss: 0.0048 - val_mae: 0.0264\n",
            "Epoch 144/300\n",
            "10/10 [==============================] - 0s 6ms/step - loss: 0.0070 - mae: 0.0254 - val_loss: 0.0046 - val_mae: 0.0211\n",
            "Epoch 145/300\n",
            "10/10 [==============================] - 0s 6ms/step - loss: 0.0070 - mae: 0.0251 - val_loss: 0.0046 - val_mae: 0.0206\n",
            "Epoch 146/300\n",
            "10/10 [==============================] - 0s 6ms/step - loss: 0.0070 - mae: 0.0246 - val_loss: 0.0046 - val_mae: 0.0201\n",
            "Epoch 147/300\n",
            "10/10 [==============================] - 0s 5ms/step - loss: 0.0071 - mae: 0.0249 - val_loss: 0.0046 - val_mae: 0.0200\n",
            "Epoch 148/300\n",
            "10/10 [==============================] - 0s 4ms/step - loss: 0.0071 - mae: 0.0254 - val_loss: 0.0046 - val_mae: 0.0204\n",
            "Epoch 149/300\n",
            "10/10 [==============================] - 0s 7ms/step - loss: 0.0070 - mae: 0.0241 - val_loss: 0.0047 - val_mae: 0.0261\n",
            "Epoch 150/300\n",
            "10/10 [==============================] - 0s 8ms/step - loss: 0.0070 - mae: 0.0243 - val_loss: 0.0051 - val_mae: 0.0353\n",
            "Epoch 151/300\n",
            "10/10 [==============================] - 0s 6ms/step - loss: 0.0071 - mae: 0.0257 - val_loss: 0.0048 - val_mae: 0.0276\n",
            "Epoch 152/300\n",
            "10/10 [==============================] - 0s 5ms/step - loss: 0.0070 - mae: 0.0237 - val_loss: 0.0049 - val_mae: 0.0278\n",
            "Epoch 153/300\n",
            "10/10 [==============================] - 0s 6ms/step - loss: 0.0071 - mae: 0.0266 - val_loss: 0.0048 - val_mae: 0.0255\n",
            "Epoch 154/300\n",
            "10/10 [==============================] - 0s 7ms/step - loss: 0.0070 - mae: 0.0262 - val_loss: 0.0046 - val_mae: 0.0207\n",
            "Epoch 155/300\n",
            "10/10 [==============================] - 0s 6ms/step - loss: 0.0070 - mae: 0.0262 - val_loss: 0.0047 - val_mae: 0.0207\n",
            "Epoch 156/300\n",
            "10/10 [==============================] - 0s 6ms/step - loss: 0.0070 - mae: 0.0275 - val_loss: 0.0048 - val_mae: 0.0244\n",
            "Epoch 157/300\n",
            "10/10 [==============================] - 0s 6ms/step - loss: 0.0070 - mae: 0.0232 - val_loss: 0.0050 - val_mae: 0.0286\n",
            "Epoch 158/300\n",
            "10/10 [==============================] - 0s 4ms/step - loss: 0.0069 - mae: 0.0246 - val_loss: 0.0047 - val_mae: 0.0217\n",
            "Epoch 159/300\n",
            "10/10 [==============================] - 0s 5ms/step - loss: 0.0070 - mae: 0.0264 - val_loss: 0.0047 - val_mae: 0.0206\n",
            "Epoch 160/300\n",
            "10/10 [==============================] - 0s 5ms/step - loss: 0.0070 - mae: 0.0260 - val_loss: 0.0048 - val_mae: 0.0212\n",
            "Epoch 161/300\n",
            "10/10 [==============================] - 0s 4ms/step - loss: 0.0070 - mae: 0.0245 - val_loss: 0.0047 - val_mae: 0.0213\n",
            "Epoch 162/300\n",
            "10/10 [==============================] - 0s 5ms/step - loss: 0.0069 - mae: 0.0255 - val_loss: 0.0046 - val_mae: 0.0208\n",
            "Epoch 163/300\n",
            "10/10 [==============================] - 0s 4ms/step - loss: 0.0069 - mae: 0.0230 - val_loss: 0.0050 - val_mae: 0.0286\n",
            "Epoch 164/300\n",
            "10/10 [==============================] - 0s 5ms/step - loss: 0.0069 - mae: 0.0250 - val_loss: 0.0047 - val_mae: 0.0212\n",
            "Epoch 165/300\n",
            "10/10 [==============================] - 0s 6ms/step - loss: 0.0069 - mae: 0.0236 - val_loss: 0.0049 - val_mae: 0.0225\n",
            "Epoch 166/300\n",
            "10/10 [==============================] - 0s 8ms/step - loss: 0.0070 - mae: 0.0259 - val_loss: 0.0051 - val_mae: 0.0330\n",
            "Epoch 167/300\n",
            "10/10 [==============================] - 0s 7ms/step - loss: 0.0069 - mae: 0.0260 - val_loss: 0.0050 - val_mae: 0.0259\n",
            "Epoch 168/300\n",
            "10/10 [==============================] - 0s 5ms/step - loss: 0.0069 - mae: 0.0245 - val_loss: 0.0051 - val_mae: 0.0297\n",
            "Epoch 169/300\n",
            "10/10 [==============================] - 0s 6ms/step - loss: 0.0069 - mae: 0.0246 - val_loss: 0.0054 - val_mae: 0.0330\n",
            "Epoch 170/300\n",
            "10/10 [==============================] - 0s 6ms/step - loss: 0.0068 - mae: 0.0252 - val_loss: 0.0049 - val_mae: 0.0268\n",
            "Epoch 171/300\n",
            "10/10 [==============================] - 0s 6ms/step - loss: 0.0068 - mae: 0.0250 - val_loss: 0.0049 - val_mae: 0.0220\n",
            "Epoch 172/300\n",
            "10/10 [==============================] - 0s 6ms/step - loss: 0.0068 - mae: 0.0243 - val_loss: 0.0049 - val_mae: 0.0234\n",
            "Epoch 173/300\n",
            "10/10 [==============================] - 0s 4ms/step - loss: 0.0068 - mae: 0.0247 - val_loss: 0.0048 - val_mae: 0.0216\n",
            "Epoch 174/300\n",
            "10/10 [==============================] - 0s 4ms/step - loss: 0.0068 - mae: 0.0257 - val_loss: 0.0050 - val_mae: 0.0231\n",
            "Epoch 175/300\n",
            "10/10 [==============================] - 0s 6ms/step - loss: 0.0069 - mae: 0.0245 - val_loss: 0.0049 - val_mae: 0.0244\n",
            "Epoch 176/300\n",
            "10/10 [==============================] - 0s 4ms/step - loss: 0.0068 - mae: 0.0247 - val_loss: 0.0051 - val_mae: 0.0256\n",
            "Epoch 177/300\n",
            "10/10 [==============================] - 0s 6ms/step - loss: 0.0068 - mae: 0.0253 - val_loss: 0.0047 - val_mae: 0.0217\n",
            "Epoch 178/300\n",
            "10/10 [==============================] - 0s 6ms/step - loss: 0.0068 - mae: 0.0263 - val_loss: 0.0048 - val_mae: 0.0216\n",
            "Epoch 179/300\n",
            "10/10 [==============================] - 0s 5ms/step - loss: 0.0068 - mae: 0.0257 - val_loss: 0.0051 - val_mae: 0.0221\n",
            "Epoch 180/300\n",
            "10/10 [==============================] - 0s 5ms/step - loss: 0.0068 - mae: 0.0254 - val_loss: 0.0050 - val_mae: 0.0231\n",
            "Epoch 181/300\n",
            "10/10 [==============================] - 0s 6ms/step - loss: 0.0067 - mae: 0.0245 - val_loss: 0.0050 - val_mae: 0.0224\n",
            "Epoch 182/300\n",
            "10/10 [==============================] - 0s 6ms/step - loss: 0.0067 - mae: 0.0251 - val_loss: 0.0049 - val_mae: 0.0218\n",
            "Epoch 183/300\n",
            "10/10 [==============================] - 0s 6ms/step - loss: 0.0067 - mae: 0.0233 - val_loss: 0.0053 - val_mae: 0.0245\n",
            "Epoch 184/300\n",
            "10/10 [==============================] - 0s 8ms/step - loss: 0.0068 - mae: 0.0268 - val_loss: 0.0050 - val_mae: 0.0221\n",
            "Epoch 185/300\n",
            "10/10 [==============================] - 0s 5ms/step - loss: 0.0068 - mae: 0.0257 - val_loss: 0.0051 - val_mae: 0.0277\n",
            "Epoch 186/300\n",
            "10/10 [==============================] - 0s 5ms/step - loss: 0.0067 - mae: 0.0251 - val_loss: 0.0055 - val_mae: 0.0264\n",
            "Epoch 187/300\n",
            "10/10 [==============================] - 0s 4ms/step - loss: 0.0067 - mae: 0.0250 - val_loss: 0.0050 - val_mae: 0.0250\n",
            "Epoch 188/300\n",
            "10/10 [==============================] - 0s 6ms/step - loss: 0.0067 - mae: 0.0245 - val_loss: 0.0052 - val_mae: 0.0219\n",
            "Epoch 189/300\n",
            "10/10 [==============================] - 0s 5ms/step - loss: 0.0067 - mae: 0.0251 - val_loss: 0.0051 - val_mae: 0.0234\n",
            "Epoch 190/300\n",
            "10/10 [==============================] - 0s 4ms/step - loss: 0.0066 - mae: 0.0260 - val_loss: 0.0052 - val_mae: 0.0218\n",
            "Epoch 191/300\n",
            "10/10 [==============================] - 0s 4ms/step - loss: 0.0066 - mae: 0.0255 - val_loss: 0.0053 - val_mae: 0.0259\n",
            "Epoch 192/300\n",
            "10/10 [==============================] - 0s 8ms/step - loss: 0.0066 - mae: 0.0237 - val_loss: 0.0053 - val_mae: 0.0234\n",
            "Epoch 193/300\n",
            "10/10 [==============================] - 0s 7ms/step - loss: 0.0066 - mae: 0.0250 - val_loss: 0.0052 - val_mae: 0.0224\n",
            "Epoch 194/300\n",
            "10/10 [==============================] - 0s 7ms/step - loss: 0.0066 - mae: 0.0236 - val_loss: 0.0052 - val_mae: 0.0246\n",
            "Epoch 195/300\n",
            "10/10 [==============================] - 0s 5ms/step - loss: 0.0066 - mae: 0.0246 - val_loss: 0.0054 - val_mae: 0.0247\n",
            "Epoch 196/300\n",
            "10/10 [==============================] - 0s 5ms/step - loss: 0.0066 - mae: 0.0251 - val_loss: 0.0052 - val_mae: 0.0219\n",
            "Epoch 197/300\n",
            "10/10 [==============================] - 0s 7ms/step - loss: 0.0066 - mae: 0.0248 - val_loss: 0.0053 - val_mae: 0.0223\n",
            "Epoch 198/300\n",
            "10/10 [==============================] - 0s 6ms/step - loss: 0.0066 - mae: 0.0255 - val_loss: 0.0058 - val_mae: 0.0318\n",
            "Epoch 199/300\n",
            "10/10 [==============================] - 0s 6ms/step - loss: 0.0066 - mae: 0.0240 - val_loss: 0.0053 - val_mae: 0.0267\n",
            "Epoch 200/300\n",
            "10/10 [==============================] - 0s 9ms/step - loss: 0.0067 - mae: 0.0259 - val_loss: 0.0051 - val_mae: 0.0235\n",
            "Epoch 201/300\n",
            "10/10 [==============================] - 0s 8ms/step - loss: 0.0067 - mae: 0.0242 - val_loss: 0.0051 - val_mae: 0.0218\n",
            "Epoch 202/300\n",
            "10/10 [==============================] - 0s 6ms/step - loss: 0.0069 - mae: 0.0259 - val_loss: 0.0051 - val_mae: 0.0294\n",
            "Epoch 203/300\n",
            "10/10 [==============================] - 0s 7ms/step - loss: 0.0067 - mae: 0.0252 - val_loss: 0.0053 - val_mae: 0.0224\n",
            "Epoch 204/300\n",
            "10/10 [==============================] - 0s 8ms/step - loss: 0.0065 - mae: 0.0242 - val_loss: 0.0049 - val_mae: 0.0233\n",
            "Epoch 205/300\n",
            "10/10 [==============================] - 0s 8ms/step - loss: 0.0065 - mae: 0.0241 - val_loss: 0.0057 - val_mae: 0.0228\n",
            "Epoch 206/300\n",
            "10/10 [==============================] - 0s 8ms/step - loss: 0.0067 - mae: 0.0234 - val_loss: 0.0049 - val_mae: 0.0235\n",
            "Epoch 207/300\n",
            "10/10 [==============================] - 0s 8ms/step - loss: 0.0068 - mae: 0.0274 - val_loss: 0.0046 - val_mae: 0.0214\n",
            "Epoch 208/300\n",
            "10/10 [==============================] - 0s 6ms/step - loss: 0.0067 - mae: 0.0242 - val_loss: 0.0060 - val_mae: 0.0311\n",
            "Epoch 209/300\n",
            "10/10 [==============================] - 0s 7ms/step - loss: 0.0066 - mae: 0.0263 - val_loss: 0.0051 - val_mae: 0.0259\n",
            "Epoch 210/300\n",
            "10/10 [==============================] - 0s 11ms/step - loss: 0.0067 - mae: 0.0286 - val_loss: 0.0058 - val_mae: 0.0235\n",
            "Epoch 211/300\n",
            "10/10 [==============================] - 0s 10ms/step - loss: 0.0065 - mae: 0.0268 - val_loss: 0.0052 - val_mae: 0.0238\n",
            "Epoch 212/300\n",
            "10/10 [==============================] - 0s 10ms/step - loss: 0.0065 - mae: 0.0264 - val_loss: 0.0054 - val_mae: 0.0241\n",
            "Epoch 213/300\n",
            "10/10 [==============================] - 0s 13ms/step - loss: 0.0066 - mae: 0.0266 - val_loss: 0.0051 - val_mae: 0.0222\n",
            "Epoch 214/300\n",
            "10/10 [==============================] - 0s 9ms/step - loss: 0.0065 - mae: 0.0246 - val_loss: 0.0054 - val_mae: 0.0220\n",
            "Epoch 215/300\n",
            "10/10 [==============================] - 0s 9ms/step - loss: 0.0064 - mae: 0.0226 - val_loss: 0.0057 - val_mae: 0.0265\n",
            "Epoch 216/300\n",
            "10/10 [==============================] - 0s 9ms/step - loss: 0.0064 - mae: 0.0246 - val_loss: 0.0055 - val_mae: 0.0271\n",
            "Epoch 217/300\n",
            "10/10 [==============================] - 0s 9ms/step - loss: 0.0064 - mae: 0.0238 - val_loss: 0.0057 - val_mae: 0.0254\n",
            "Epoch 218/300\n",
            "10/10 [==============================] - 0s 10ms/step - loss: 0.0064 - mae: 0.0243 - val_loss: 0.0054 - val_mae: 0.0277\n",
            "Epoch 219/300\n",
            "10/10 [==============================] - 0s 9ms/step - loss: 0.0065 - mae: 0.0254 - val_loss: 0.0058 - val_mae: 0.0295\n",
            "Epoch 220/300\n",
            "10/10 [==============================] - 0s 12ms/step - loss: 0.0065 - mae: 0.0252 - val_loss: 0.0054 - val_mae: 0.0232\n",
            "Epoch 221/300\n",
            "10/10 [==============================] - 0s 8ms/step - loss: 0.0064 - mae: 0.0233 - val_loss: 0.0053 - val_mae: 0.0214\n",
            "Epoch 222/300\n",
            "10/10 [==============================] - 0s 10ms/step - loss: 0.0065 - mae: 0.0261 - val_loss: 0.0053 - val_mae: 0.0233\n",
            "Epoch 223/300\n",
            "10/10 [==============================] - 0s 14ms/step - loss: 0.0065 - mae: 0.0267 - val_loss: 0.0053 - val_mae: 0.0248\n",
            "Epoch 224/300\n",
            "10/10 [==============================] - 0s 9ms/step - loss: 0.0065 - mae: 0.0263 - val_loss: 0.0054 - val_mae: 0.0220\n",
            "Epoch 225/300\n",
            "10/10 [==============================] - 0s 10ms/step - loss: 0.0064 - mae: 0.0259 - val_loss: 0.0054 - val_mae: 0.0240\n",
            "Epoch 226/300\n",
            "10/10 [==============================] - 0s 8ms/step - loss: 0.0064 - mae: 0.0258 - val_loss: 0.0056 - val_mae: 0.0219\n",
            "Epoch 227/300\n",
            "10/10 [==============================] - 0s 8ms/step - loss: 0.0063 - mae: 0.0244 - val_loss: 0.0054 - val_mae: 0.0226\n",
            "Epoch 228/300\n",
            "10/10 [==============================] - 0s 9ms/step - loss: 0.0063 - mae: 0.0232 - val_loss: 0.0054 - val_mae: 0.0217\n",
            "Epoch 229/300\n",
            "10/10 [==============================] - 0s 9ms/step - loss: 0.0063 - mae: 0.0232 - val_loss: 0.0055 - val_mae: 0.0228\n",
            "Epoch 230/300\n",
            "10/10 [==============================] - 0s 10ms/step - loss: 0.0062 - mae: 0.0223 - val_loss: 0.0066 - val_mae: 0.0368\n",
            "Epoch 231/300\n",
            "10/10 [==============================] - 0s 9ms/step - loss: 0.0065 - mae: 0.0262 - val_loss: 0.0048 - val_mae: 0.0239\n",
            "Epoch 232/300\n",
            "10/10 [==============================] - 0s 10ms/step - loss: 0.0065 - mae: 0.0234 - val_loss: 0.0051 - val_mae: 0.0252\n",
            "Epoch 233/300\n",
            "10/10 [==============================] - 0s 11ms/step - loss: 0.0064 - mae: 0.0249 - val_loss: 0.0061 - val_mae: 0.0274\n",
            "Epoch 234/300\n",
            "10/10 [==============================] - 0s 10ms/step - loss: 0.0064 - mae: 0.0254 - val_loss: 0.0050 - val_mae: 0.0220\n",
            "Epoch 235/300\n",
            "10/10 [==============================] - 0s 8ms/step - loss: 0.0064 - mae: 0.0238 - val_loss: 0.0055 - val_mae: 0.0225\n",
            "Epoch 236/300\n",
            "10/10 [==============================] - 0s 9ms/step - loss: 0.0063 - mae: 0.0242 - val_loss: 0.0056 - val_mae: 0.0243\n",
            "Epoch 237/300\n",
            "10/10 [==============================] - 0s 8ms/step - loss: 0.0063 - mae: 0.0220 - val_loss: 0.0051 - val_mae: 0.0234\n",
            "Epoch 238/300\n",
            "10/10 [==============================] - 0s 9ms/step - loss: 0.0063 - mae: 0.0235 - val_loss: 0.0052 - val_mae: 0.0234\n",
            "Epoch 239/300\n",
            "10/10 [==============================] - 0s 9ms/step - loss: 0.0063 - mae: 0.0235 - val_loss: 0.0064 - val_mae: 0.0265\n",
            "Epoch 240/300\n",
            "10/10 [==============================] - 0s 10ms/step - loss: 0.0063 - mae: 0.0226 - val_loss: 0.0054 - val_mae: 0.0225\n",
            "Epoch 241/300\n",
            "10/10 [==============================] - 0s 8ms/step - loss: 0.0062 - mae: 0.0226 - val_loss: 0.0055 - val_mae: 0.0235\n",
            "Epoch 242/300\n",
            "10/10 [==============================] - 0s 9ms/step - loss: 0.0063 - mae: 0.0247 - val_loss: 0.0059 - val_mae: 0.0300\n",
            "Epoch 243/300\n",
            "10/10 [==============================] - 0s 10ms/step - loss: 0.0064 - mae: 0.0273 - val_loss: 0.0061 - val_mae: 0.0356\n",
            "Epoch 244/300\n",
            "10/10 [==============================] - 0s 8ms/step - loss: 0.0064 - mae: 0.0264 - val_loss: 0.0062 - val_mae: 0.0229\n",
            "Epoch 245/300\n",
            "10/10 [==============================] - 0s 7ms/step - loss: 0.0064 - mae: 0.0273 - val_loss: 0.0051 - val_mae: 0.0224\n",
            "Epoch 246/300\n",
            "10/10 [==============================] - 0s 8ms/step - loss: 0.0064 - mae: 0.0266 - val_loss: 0.0072 - val_mae: 0.0249\n",
            "Epoch 247/300\n",
            "10/10 [==============================] - 0s 5ms/step - loss: 0.0063 - mae: 0.0245 - val_loss: 0.0057 - val_mae: 0.0251\n",
            "Epoch 248/300\n",
            "10/10 [==============================] - 0s 4ms/step - loss: 0.0062 - mae: 0.0226 - val_loss: 0.0054 - val_mae: 0.0232\n",
            "Epoch 249/300\n",
            "10/10 [==============================] - 0s 4ms/step - loss: 0.0062 - mae: 0.0221 - val_loss: 0.0060 - val_mae: 0.0273\n",
            "Epoch 250/300\n",
            "10/10 [==============================] - 0s 6ms/step - loss: 0.0063 - mae: 0.0244 - val_loss: 0.0056 - val_mae: 0.0236\n",
            "Epoch 251/300\n",
            "10/10 [==============================] - 0s 6ms/step - loss: 0.0063 - mae: 0.0247 - val_loss: 0.0054 - val_mae: 0.0218\n",
            "Epoch 252/300\n",
            "10/10 [==============================] - 0s 5ms/step - loss: 0.0063 - mae: 0.0248 - val_loss: 0.0058 - val_mae: 0.0235\n",
            "Epoch 253/300\n",
            "10/10 [==============================] - 0s 6ms/step - loss: 0.0062 - mae: 0.0239 - val_loss: 0.0058 - val_mae: 0.0318\n",
            "Epoch 254/300\n",
            "10/10 [==============================] - 0s 7ms/step - loss: 0.0063 - mae: 0.0239 - val_loss: 0.0064 - val_mae: 0.0334\n",
            "Epoch 255/300\n",
            "10/10 [==============================] - 0s 6ms/step - loss: 0.0063 - mae: 0.0256 - val_loss: 0.0057 - val_mae: 0.0259\n",
            "Epoch 256/300\n",
            "10/10 [==============================] - 0s 6ms/step - loss: 0.0062 - mae: 0.0238 - val_loss: 0.0056 - val_mae: 0.0224\n",
            "Epoch 257/300\n",
            "10/10 [==============================] - 0s 8ms/step - loss: 0.0062 - mae: 0.0225 - val_loss: 0.0056 - val_mae: 0.0275\n",
            "Epoch 258/300\n",
            "10/10 [==============================] - 0s 7ms/step - loss: 0.0063 - mae: 0.0254 - val_loss: 0.0060 - val_mae: 0.0267\n",
            "Epoch 259/300\n",
            "10/10 [==============================] - 0s 4ms/step - loss: 0.0062 - mae: 0.0219 - val_loss: 0.0057 - val_mae: 0.0231\n",
            "Epoch 260/300\n",
            "10/10 [==============================] - 0s 4ms/step - loss: 0.0062 - mae: 0.0229 - val_loss: 0.0057 - val_mae: 0.0231\n",
            "Epoch 261/300\n",
            "10/10 [==============================] - 0s 7ms/step - loss: 0.0062 - mae: 0.0236 - val_loss: 0.0057 - val_mae: 0.0229\n",
            "Epoch 262/300\n",
            "10/10 [==============================] - 0s 4ms/step - loss: 0.0062 - mae: 0.0225 - val_loss: 0.0057 - val_mae: 0.0242\n",
            "Epoch 263/300\n",
            "10/10 [==============================] - 0s 6ms/step - loss: 0.0062 - mae: 0.0245 - val_loss: 0.0058 - val_mae: 0.0228\n",
            "Epoch 264/300\n",
            "10/10 [==============================] - 0s 5ms/step - loss: 0.0062 - mae: 0.0240 - val_loss: 0.0052 - val_mae: 0.0213\n",
            "Epoch 265/300\n",
            "10/10 [==============================] - 0s 5ms/step - loss: 0.0062 - mae: 0.0226 - val_loss: 0.0054 - val_mae: 0.0222\n",
            "Epoch 266/300\n",
            "10/10 [==============================] - 0s 5ms/step - loss: 0.0062 - mae: 0.0215 - val_loss: 0.0057 - val_mae: 0.0246\n",
            "Epoch 267/300\n",
            "10/10 [==============================] - 0s 4ms/step - loss: 0.0062 - mae: 0.0228 - val_loss: 0.0053 - val_mae: 0.0265\n",
            "Epoch 268/300\n",
            "10/10 [==============================] - 0s 6ms/step - loss: 0.0062 - mae: 0.0238 - val_loss: 0.0073 - val_mae: 0.0285\n",
            "Epoch 269/300\n",
            "10/10 [==============================] - 0s 4ms/step - loss: 0.0062 - mae: 0.0242 - val_loss: 0.0058 - val_mae: 0.0328\n",
            "Epoch 270/300\n",
            "10/10 [==============================] - 0s 5ms/step - loss: 0.0062 - mae: 0.0252 - val_loss: 0.0059 - val_mae: 0.0244\n",
            "Epoch 271/300\n",
            "10/10 [==============================] - 0s 5ms/step - loss: 0.0062 - mae: 0.0231 - val_loss: 0.0059 - val_mae: 0.0323\n",
            "Epoch 272/300\n",
            "10/10 [==============================] - 0s 5ms/step - loss: 0.0062 - mae: 0.0239 - val_loss: 0.0066 - val_mae: 0.0268\n",
            "Epoch 273/300\n",
            "10/10 [==============================] - 0s 5ms/step - loss: 0.0061 - mae: 0.0227 - val_loss: 0.0059 - val_mae: 0.0236\n",
            "Epoch 274/300\n",
            "10/10 [==============================] - 0s 6ms/step - loss: 0.0061 - mae: 0.0235 - val_loss: 0.0056 - val_mae: 0.0237\n",
            "Epoch 275/300\n",
            "10/10 [==============================] - 0s 8ms/step - loss: 0.0063 - mae: 0.0257 - val_loss: 0.0056 - val_mae: 0.0238\n",
            "Epoch 276/300\n",
            "10/10 [==============================] - 0s 8ms/step - loss: 0.0061 - mae: 0.0252 - val_loss: 0.0061 - val_mae: 0.0237\n",
            "Epoch 277/300\n",
            "10/10 [==============================] - 0s 5ms/step - loss: 0.0062 - mae: 0.0234 - val_loss: 0.0054 - val_mae: 0.0222\n",
            "Epoch 278/300\n",
            "10/10 [==============================] - 0s 4ms/step - loss: 0.0061 - mae: 0.0221 - val_loss: 0.0068 - val_mae: 0.0252\n",
            "Epoch 279/300\n",
            "10/10 [==============================] - 0s 6ms/step - loss: 0.0061 - mae: 0.0239 - val_loss: 0.0053 - val_mae: 0.0247\n",
            "Epoch 280/300\n",
            "10/10 [==============================] - 0s 4ms/step - loss: 0.0062 - mae: 0.0230 - val_loss: 0.0052 - val_mae: 0.0225\n",
            "Epoch 281/300\n",
            "10/10 [==============================] - 0s 7ms/step - loss: 0.0062 - mae: 0.0239 - val_loss: 0.0063 - val_mae: 0.0263\n",
            "Epoch 282/300\n",
            "10/10 [==============================] - 0s 6ms/step - loss: 0.0062 - mae: 0.0237 - val_loss: 0.0057 - val_mae: 0.0288\n",
            "Epoch 283/300\n",
            "10/10 [==============================] - 0s 5ms/step - loss: 0.0063 - mae: 0.0261 - val_loss: 0.0062 - val_mae: 0.0351\n",
            "Epoch 284/300\n",
            "10/10 [==============================] - 0s 4ms/step - loss: 0.0062 - mae: 0.0259 - val_loss: 0.0063 - val_mae: 0.0258\n",
            "Epoch 285/300\n",
            "10/10 [==============================] - 0s 5ms/step - loss: 0.0061 - mae: 0.0218 - val_loss: 0.0057 - val_mae: 0.0264\n",
            "Epoch 286/300\n",
            "10/10 [==============================] - 0s 6ms/step - loss: 0.0061 - mae: 0.0231 - val_loss: 0.0065 - val_mae: 0.0297\n",
            "Epoch 287/300\n",
            "10/10 [==============================] - 0s 5ms/step - loss: 0.0062 - mae: 0.0250 - val_loss: 0.0059 - val_mae: 0.0274\n",
            "Epoch 288/300\n",
            "10/10 [==============================] - 0s 8ms/step - loss: 0.0061 - mae: 0.0220 - val_loss: 0.0061 - val_mae: 0.0232\n",
            "Epoch 289/300\n",
            "10/10 [==============================] - 0s 7ms/step - loss: 0.0061 - mae: 0.0228 - val_loss: 0.0056 - val_mae: 0.0226\n",
            "Epoch 290/300\n",
            "10/10 [==============================] - 0s 7ms/step - loss: 0.0061 - mae: 0.0223 - val_loss: 0.0059 - val_mae: 0.0231\n",
            "Epoch 291/300\n",
            "10/10 [==============================] - 0s 8ms/step - loss: 0.0060 - mae: 0.0219 - val_loss: 0.0057 - val_mae: 0.0248\n",
            "Epoch 292/300\n",
            "10/10 [==============================] - 0s 6ms/step - loss: 0.0062 - mae: 0.0235 - val_loss: 0.0062 - val_mae: 0.0396\n",
            "Epoch 293/300\n",
            "10/10 [==============================] - 0s 6ms/step - loss: 0.0064 - mae: 0.0283 - val_loss: 0.0062 - val_mae: 0.0297\n",
            "Epoch 294/300\n",
            "10/10 [==============================] - 0s 6ms/step - loss: 0.0062 - mae: 0.0252 - val_loss: 0.0051 - val_mae: 0.0240\n",
            "Epoch 295/300\n",
            "10/10 [==============================] - 0s 5ms/step - loss: 0.0062 - mae: 0.0245 - val_loss: 0.0057 - val_mae: 0.0235\n",
            "Epoch 296/300\n",
            "10/10 [==============================] - 0s 4ms/step - loss: 0.0061 - mae: 0.0234 - val_loss: 0.0064 - val_mae: 0.0262\n",
            "Epoch 297/300\n",
            "10/10 [==============================] - 0s 4ms/step - loss: 0.0061 - mae: 0.0232 - val_loss: 0.0061 - val_mae: 0.0377\n",
            "Epoch 298/300\n",
            "10/10 [==============================] - 0s 5ms/step - loss: 0.0062 - mae: 0.0238 - val_loss: 0.0065 - val_mae: 0.0275\n",
            "Epoch 299/300\n",
            "10/10 [==============================] - 0s 4ms/step - loss: 0.0061 - mae: 0.0233 - val_loss: 0.0057 - val_mae: 0.0322\n",
            "Epoch 300/300\n",
            "10/10 [==============================] - 0s 4ms/step - loss: 0.0061 - mae: 0.0247 - val_loss: 0.0053 - val_mae: 0.0227\n"
          ]
        }
      ]
    },
    {
      "cell_type": "code",
      "source": [
        "print(history.history.keys())\n",
        "plt.plot(history.history['loss'])\n",
        "plt.plot(history.history['val_loss'])\n",
        "plt.title('model loss')\n",
        "plt.ylabel('loss')\n",
        "plt.xlabel('epoch')\n",
        "plt.legend(['train', 'validation'], loc='upper right')\n",
        "plt.show()"
      ],
      "metadata": {
        "colab": {
          "base_uri": "https://localhost:8080/",
          "height": 272
        },
        "id": "4xnLikjtwSxE",
        "outputId": "85dce946-e446-4cf8-a0d5-bd4cfd778ec4"
      },
      "execution_count": null,
      "outputs": [
        {
          "output_type": "stream",
          "name": "stdout",
          "text": [
            "dict_keys(['loss', 'mae', 'val_loss', 'val_mae'])\n"
          ]
        },
        {
          "output_type": "display_data",
          "data": {
            "text/plain": [
              "<Figure size 640x480 with 1 Axes>"
            ],
            "image/png": "[encoded data removed]"
          },
          "metadata": {}
        }
      ]
    },
    {
      "cell_type": "code",
      "source": [
        "# model evaluation\n",
        "Y_predANN=network.predict(X_test)\n",
        "print('r2:', r2_score(Y_test,Y_predANN))\n",
        "print('MAE:', mean_absolute_error(Y_test,Y_predANN))\n",
        "print('RMSE:', (mean_squared_error(Y_test,Y_predANN)**0.5))\n",
        "\n",
        "\n",
        "plt.scatter(Y_test,Y_predANN)\n",
        "plt.title(\"Model Prediction\")\n",
        "plt.xlabel(\"Test\")\n",
        "plt.ylabel(\"Prediction\")\n",
        "plt.plot(np.arange(0,2), np.arange(0, 2), color = 'green')\n",
        "plt.grid(True)\n",
        "plt.show()"
      ],
      "metadata": {
        "colab": {
          "base_uri": "https://localhost:8080/",
          "height": 324
        },
        "id": "84Dt6u8hwXNd",
        "outputId": "874010cf-4d82-4ebe-edaf-73cdea98f372"
      },
      "execution_count": null,
      "outputs": [
        {
          "output_type": "stream",
          "name": "stdout",
          "text": [
            "26/26 [==============================] - 0s 1ms/step\n",
            "r2: -0.06994210602165851\n",
            "MAE: 0.02609005472162266\n",
            "RMSE: 0.09663128937608852\n"
          ]
        },
        {
          "output_type": "display_data",
          "data": {
            "text/plain": [
              "<Figure size 640x480 with 1 Axes>"
            ],
            "image/png": "[encoded data removed]"
          },
          "metadata": {}
        }
      ]
    }
  ]
}